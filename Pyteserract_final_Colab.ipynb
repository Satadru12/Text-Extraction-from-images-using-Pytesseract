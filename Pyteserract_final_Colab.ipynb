{
  "cells": [
    {
      "cell_type": "markdown",
      "metadata": {
        "id": "ZAotIpS0H04-"
      },
      "source": [
        "#Objective - To identify if the bills provided are from restaurants or from non-restaurants. "
      ]
    },
    {
      "cell_type": "markdown",
      "metadata": {
        "id": "SJzXDlXDIWE2"
      },
      "source": [
        "Importing necessary modules"
      ]
    },
    {
      "cell_type": "code",
      "execution_count": null,
      "metadata": {
        "colab": {
          "base_uri": "https://localhost:8080/"
        },
        "id": "wwOSvATARPQL",
        "outputId": "ca7449f8-d7cd-476d-9526-04427efab7d4"
      },
      "outputs": [
        {
          "name": "stdout",
          "output_type": "stream",
          "text": [
            "Reading package lists... Done\n",
            "Building dependency tree       \n",
            "Reading state information... Done\n",
            "tesseract-ocr is already the newest version (4.00~git2288-10f4998a-2).\n",
            "The following package was automatically installed and is no longer required:\n",
            "  libnvidia-common-460\n",
            "Use 'sudo apt autoremove' to remove it.\n",
            "0 upgraded, 0 newly installed, 0 to remove and 27 not upgraded.\n",
            "Looking in indexes: https://pypi.org/simple, https://us-python.pkg.dev/colab-wheels/public/simple/\n",
            "Requirement already satisfied: pytesseract in /usr/local/lib/python3.7/dist-packages (0.3.10)\n",
            "Requirement already satisfied: packaging>=21.3 in /usr/local/lib/python3.7/dist-packages (from pytesseract) (21.3)\n",
            "Requirement already satisfied: Pillow>=8.0.0 in /usr/local/lib/python3.7/dist-packages (from pytesseract) (9.2.0)\n",
            "Requirement already satisfied: pyparsing!=3.0.5,>=2.0.2 in /usr/local/lib/python3.7/dist-packages (from packaging>=21.3->pytesseract) (3.0.9)\n"
          ]
        }
      ],
      "source": [
        "!sudo apt install tesseract-ocr\n",
        "!pip install pytesseract"
      ]
    },
    {
      "cell_type": "code",
      "execution_count": null,
      "metadata": {
        "colab": {
          "base_uri": "https://localhost:8080/"
        },
        "id": "3lRt4Jq4r5L4",
        "outputId": "1d4c20f8-1787-44b8-fa14-40e7c3cfa35c"
      },
      "outputs": [
        {
          "name": "stdout",
          "output_type": "stream",
          "text": [
            "Drive already mounted at /content/drive; to attempt to forcibly remount, call drive.mount(\"/content/drive\", force_remount=True).\n"
          ]
        }
      ],
      "source": [
        "from google.colab import drive\n",
        "drive.mount('/content/drive')"
      ]
    },
    {
      "cell_type": "code",
      "execution_count": null,
      "metadata": {
        "id": "3Upr0leAWlad"
      },
      "outputs": [],
      "source": [
        "import pytesseract\n",
        "import shutil\n",
        "import os\n",
        "import random\n",
        "try:\n",
        " from PIL import Image\n",
        "except ImportError:\n",
        " import Image"
      ]
    },
    {
      "cell_type": "markdown",
      "metadata": {
        "id": "rYF7ofh4Z0BC"
      },
      "source": [
        "**project**"
      ]
    },
    {
      "cell_type": "markdown",
      "metadata": {
        "id": "okqmas4_fDKU"
      },
      "source": [
        "**bill classification**"
      ]
    },
    {
      "cell_type": "markdown",
      "metadata": {
        "id": "mq9vqjjeXqZK"
      },
      "source": [
        "**get_text function reads the text from the image using pytesseract**"
      ]
    },
    {
      "cell_type": "code",
      "execution_count": null,
      "metadata": {
        "id": "dpsxMJZccLz1"
      },
      "outputs": [],
      "source": [
        "def get_text(address):\n",
        "  extractedInformation = pytesseract.image_to_string(Image.open(address))\n",
        "  return extractedInformation.lower().strip()"
      ]
    },
    {
      "cell_type": "code",
      "execution_count": null,
      "metadata": {
        "id": "yyVcjsaOlpz1"
      },
      "outputs": [],
      "source": [
        "import os"
      ]
    },
    {
      "cell_type": "code",
      "execution_count": null,
      "metadata": {
        "colab": {
          "base_uri": "https://localhost:8080/"
        },
        "id": "zY4rMTHAltks",
        "outputId": "792328ad-0ab2-490d-e87c-aa448a981339"
      },
      "outputs": [
        {
          "data": {
            "text/plain": [
              "['r2.jpg', 'r5.jpg', 'r3.jpeg', 'r1.jpg', 'r6.jpg', 'r4.jpg']"
            ]
          },
          "execution_count": 6,
          "metadata": {},
          "output_type": "execute_result"
        }
      ],
      "source": [
        "a=os.listdir(\"/content/drive/MyDrive/EY/res1\")\n",
        "a"
      ]
    },
    {
      "cell_type": "code",
      "execution_count": null,
      "metadata": {
        "id": "6BIeWwuql0fX"
      },
      "outputs": [],
      "source": [
        "restaurant_bills=[]"
      ]
    },
    {
      "cell_type": "markdown",
      "metadata": {
        "id": "fcVAMqaqX2B2"
      },
      "source": [
        "Here we loop through all the files in the folder res1 and extract the text from the respective image files"
      ]
    },
    {
      "cell_type": "code",
      "execution_count": null,
      "metadata": {
        "id": "xQ502GTcl5h_"
      },
      "outputs": [],
      "source": [
        "for i in a:\n",
        "  address=f\"/content/drive/MyDrive/EY/res1/{i}\"\n",
        "  restaurant_bills.append(get_text(address))"
      ]
    },
    {
      "cell_type": "code",
      "execution_count": null,
      "metadata": {
        "colab": {
          "base_uri": "https://localhost:8080/"
        },
        "id": "A2ugJZgXmS77",
        "outputId": "0219f8c4-ce0c-487d-8549-9a9384cc877e"
      },
      "outputs": [
        {
          "data": {
            "text/plain": [
              "['1 no waiter\\n\\nab6i5 waiter 5 06/06\\niten price oty\\nflavoured wojito 330, 00 1\\nsaaneh mint 170.00 1\\n‘ong island elec 340.00 2\\ncrunchy salad 180.00 1.000\\nassorted satay 260.00 1\\n\\n \\n\\ntequila chicken 320.00 1.000\\nfajitas chicken 300.00 1.0u0 ).{\\nsurf n turf 360, oo 1.000 360.¢\\ntotal seaat ity 9. 00\\n\\ngross total\\n\\nvat 5.5%\\n\\nvat 14.5 %\\n\\nservice tax 5.6%\\nservice charges 10.00%\\nnet amount\\nget back joe joe!\\n\\npo ee ie ahi i ea: a ie ee ee ee ee\\n\\na nl a eal ia',\n",
              " 'anandha bhavan a/c\\n13 /a ecr wain road. pillatyarkuppam\\ngstin 34aayfa450681z0\\n‘wish you all a very happy. new year\\ndate 26/01/2018 time :09:53 aw\\nwaiter :siva.a table :8\\n\\nname rate ty asount\\n\\n \\n\\nrs.404.00 j\\n\\nthan you. visit again',\n",
              " 'chinese plate\\n\\nfood business center\\n\\n23232, java city, selangor\\nny, usa\\ntel : 03-435435435\\n\\ntable - 06\\ncheck # 622967, pax(s): 04\\ndate 11/01/2020 18:34\\n\\ncashier david smith\\n\\n \\n \\n  \\n\\n \\n\\n3\\n4 soda\\n\\n4 desserts\\n\\nsbioctal:  tsti<“<is*~“‘“‘<‘<=~;é‘;*«ss‘cb\\nfood tax 2.90\\nlocal tax 1.28\\ntotal : 79.66\\n\\ntake home a bag of meatballs and 2 pkgs. of\\ncream sauce for only $9.99\\nmade from an authentic recipe!',\n",
              " 'biil\\n\\ndeso1/07/17  o1244ph m/cz04 no:459\\n45/0 the2 w210\\n\\ndescription qty rate = amount\\nresh coffee 2 40.0 80.00\\nfood amt rs. 80.00\\nc6st @ 6.00 cn 80.00 4,90\\nses? @ 6.00 on 80.00 4,80\\nhet food amt rs. 89,60\\ncasy sog\\n\\nf ost tam s9536)17f\\ni xthank your.',\n",
              " 'mocambo restaurant\\n258, park street\\nkolkata- 700016\\n\\n22290095/22654300\\n\\nvat # 19430049049\\n\\nst#afzpk5418csd001\\n\\ninvoice\\n\\nmemo# 14/19806 03:35 pm 24-sep-2014\\nuser: lal babu pax# 2\\n\\ntablet pec\\n\\nproduct qty i amount\\ndevilled crab 1 296.00 296.00\\nfresh lime soda 2 66.00 130.00\\nfish diana 1 378.00 378.00\\nsurf & turf 1 493.00 493.00\\np.a. souffle 1 188,00: 128.00\\nsub total 1430. 00\\nservice tax@4, 944% 10. 70\\nvat @ 14.5 % 207. 36\\nround off: = 06\\ntotal qty: 6 amt: 1708. 00\\n\\nconned one thousand seven hundred eight\\nnly\\nthank you',\n",
              " 'family restaurant\\n\\nviay nagar, nearby c21 mal. indore madhya\\nradeeh nd,\\n\\nmobile no: 9876543210\\ndate-may 11,2019\\nterm name qty. rate amount\\n\\npaza large 14300 430.0\\npasta 2 2200 4400\\n\\ndal makhan - full 1 180.0 180.0\\n\\ninvoice no-40\\n\\n‘adational discount 00\\ntotal qty: 40\\n‘total payable value: 1,050.00\\n\\n‘tank you, ve agit']"
            ]
          },
          "execution_count": 9,
          "metadata": {},
          "output_type": "execute_result"
        }
      ],
      "source": [
        "restaurant_bills "
      ]
    },
    {
      "cell_type": "code",
      "execution_count": null,
      "metadata": {
        "colab": {
          "base_uri": "https://localhost:8080/"
        },
        "id": "VviMHq0UmYAh",
        "outputId": "a74eb5e5-cba6-4c84-e653-5214d21883be"
      },
      "outputs": [
        {
          "data": {
            "text/plain": [
              "6"
            ]
          },
          "execution_count": 10,
          "metadata": {},
          "output_type": "execute_result"
        }
      ],
      "source": [
        "len(restaurant_bills)"
      ]
    },
    {
      "cell_type": "code",
      "execution_count": null,
      "metadata": {
        "id": "T8Ay8TiymsA0"
      },
      "outputs": [],
      "source": [
        "non_restaurant_bills=[]"
      ]
    },
    {
      "cell_type": "markdown",
      "metadata": {
        "id": "7PT9CMcuX_Ul"
      },
      "source": [
        "We do the same for the other folder having non-restaurant bills"
      ]
    },
    {
      "cell_type": "code",
      "execution_count": null,
      "metadata": {
        "colab": {
          "base_uri": "https://localhost:8080/"
        },
        "id": "ZBqXOTFdm9wI",
        "outputId": "3768de1d-7ce1-4492-f63c-38df9aa8b9ea"
      },
      "outputs": [
        {
          "data": {
            "text/plain": [
              "['n2.jpg', 'n1.jpeg', 'n5.jpg', 'n4.jpg', 'n3.jpeg']"
            ]
          },
          "execution_count": 12,
          "metadata": {},
          "output_type": "execute_result"
        }
      ],
      "source": [
        "a=os.listdir(\"/content/drive/MyDrive/EY/non res\")\n",
        "a"
      ]
    },
    {
      "cell_type": "code",
      "execution_count": null,
      "metadata": {
        "id": "sJd41v7Mmy2S"
      },
      "outputs": [],
      "source": [
        "for i in a:\n",
        "  address=f\"/content/drive/MyDrive/EY/non res/{i}\"\n",
        "  non_restaurant_bills.append(get_text(address))"
      ]
    },
    {
      "cell_type": "code",
      "execution_count": null,
      "metadata": {
        "colab": {
          "base_uri": "https://localhost:8080/"
        },
        "id": "fBDOtIpCnBuz",
        "outputId": "45c86640-7fbe-4fd1-88b0-f56a81261327"
      },
      "outputs": [
        {
          "data": {
            "text/plain": [
              "[', invoice\\n\\nyour company llc address 123, state, my country p 111-222-333, f 111-222-334\\n\\nbill to:\\njohn doe\\n\\n‘alpha bravo road 33\\n\\np: 111-222-333, f: 111-222-334\\nclient@example.net\\n\\nshipping to:\\njohn doe office\\n\\noffice road 38\\n\\np: 111-333-222, f: 122-222-834\\noffice@example.net\\n\\nhttp://mrsinvoice.com\\n\\n \\n\\n \\n\\n \\n\\n \\n\\n \\n\\n \\n\\ninvoice # 00001\\ninvoice date cit.\\nname of rep. bob\\n\\ncontact phone 101-102-103\\n\\n \\n\\npayment terms\\n\\n \\n\\n \\n\\ncash on delivery\\n\\n \\n\\n \\n\\namount due: $4,170\\n\\n \\n\\n \\n\\n \\n\\n \\n\\nno products / service quantity / rate / unit amount\\nhours: price\\n\\n1 tye 2 $20 $40\\n\\n2 | steering wheel 5 $10 $50\\n\\n3 | engine oi 10 $15 $150\\n\\n4 | brake pad 24 $1000 $2,400\\n\\nsubtotal $275\\n\\ntax (10%) $27.5\\n\\ngrand total $202.5\\n\\n‘thank you for your business',\n",
              " 'd. brawn manufacture\\n\\ninvoice no. dvt-ax-345678\\n\\npayment date: 03/12/2006\\n\\n \\n\\n \\n\\n \\n\\nreference designation qty unit price totalchf sales\\nwork\\nservice d complete overhaul di 5500.00 5500.00 220\\nservice d refreshing complete case 1 380.00 380.00 220\\nand rhodium bath\\nexterior parts:\\njo.297.065.fp flat gasket 1 3.00 3.00 220\\njo.197.075.fp flat gasket 1 4.00 4.00 220\\njo.199.059.0s flat round gasket 1 6.00 6.00 220\\nvi.261.036.bc w.g.fixation screws 10 4.00 40.00 220\\nai.465.055.bc white gold \"foil\" 1 70.00 70.00 220\\npair of hand\\nlength: 10/13.50mm\\ncalibre 2868\\nspecial discount -3003.00 -3003.00\\ndiscount -900.00 -900.00\\ntotal chf 3706.05\\nreturn after repair\\nno commercial value\\npayment:\\nmr. john doe\\ngreen street 15, office 4\\n1234 vermut\\n\\nnew caledonia\\n\\ncredit card: visa\\ncard no: 112345678',\n",
              " '[hotel name]\\n\\n[address] setup my hotel\\n\\n[city, st zip]\\n\\nfax / phone:\\n\\nemail:\\n\\n4/8/2018\\n\\nguest name: 12346\\n\\naddress\\n\\nary\\n\\nmobile / email 4/4/2018 16:00\\n\\nbilling notes\\n4/4/2018 11:00\\n\\n   \\n\\n  \\n \\n\\ndescription\\nroom chages - 04/04/2018\\ngst-12%\\n\\nlaundry -05/04/2018\\nroom chages - 04/04/2018\\ngst-12%\\n\\nunit price\\n5,000.00\\n600.00\\n\\n  \\n  \\n \\n\\namount\\n5,000.00\\n600.00\\n\\n \\n\\n \\n \\n\\n   \\n\\n \\n\\n \\n\\n \\n\\n \\n\\n \\n\\n \\n\\n \\n\\n \\n\\n \\n\\n \\n\\n \\n\\n \\n\\n \\n\\n \\n\\n \\n\\n \\n\\n \\n\\nthank you for your business! subtotal 6,470.00\\ntotal\\n\\nregardless of the billing instruction | agree to be held personally liable for payment of the total amount of this bill.\\n\\ncashier signature guest signature\\n\\nthanks for choosing - [your hotel name]\\npage 1-1\\nsetupmyhotel.com',\n",
              " 'sss,agency invoice\\n\\ncambridge,\\ncb2 8x\\n\\nmain director tele: 07981423683\\nwebsite: www.scsaaency18.bloaspol.co.uk\\n\\n \\n\\nname: _shelby lucier (scs agency main director) date:_13/02/15\\naddress: _6 glebe road\\n\\ncity: cambridge _ state: cambridgeshire zip code: _cb1 78z\\nphone: _ 07981423683 _alt. phone: _01223 507400\\n\\n \\n\\n \\n\\ndescription price (£ xtime)| total(£)\\nimage capture & record of meetings 758 7.58\\nimage ediling 15.16 22.74\\ninitial sticker planning 758 30.32,\\nnoles being taken 013 30.45\\ninitial postcard planning | 22.74 s39\\nnote ediling & finalising 379 56.98\\ncontacting client 15.16 72.14\\nfinalising ideas (stickers & postcard - front and back) 22.74 94.88\\nprinting stickers - 6.5cm width x 600 copies 54.00 +377 152.67\"\\nprinting postcards -as x 40 copies 1800-2 | 1,956.46\\nbus time travel - 30 minutes one way (30 min x 4 travels) 16.80 4,973.26\\n\\ntravel io bus stop from college 0.06 1.97332\\ntravel from bus stop to burwash manner 0.08 1,973.38\\n\\n‘meeting running time x2 764 1,981.02\\n(grand total £1,981,02\\n\\n \\n\\n \\n\\n \\n\\n \\n\\n \\n\\n \\n\\n \\n\\n \\n\\n \\n\\n \\n\\n \\n\\n \\n\\n \\n\\n \\n\\n \\n\\n \\n\\n \\n\\n \\n\\n \\n\\n \\n\\n \\n\\nimportant notes:\\n\\nthe guidlines of this invoice are sicily professional. the minimum wage_ sub total: _1.981.02\\n\\ntor under 18\\'s inthe uniled kingdom is £3.79 per hour. tax: 20%vat=396.20\\n\\ntotal due: _ £1.584.82\\n\\nfuthorized signatures\\n\\nthank you for your business!',\n",
              " 'test document\\n\\ntriad group plc\\n\\n3 caldecotte lake business park,\\ncaldecotte lake drive,\\ncaldecotte,\\n\\nmilton keynes,\\n\\nmkt 8lf\\n\\nphone: 01908 278450\\n\\nto:\\n\\ncatherine dale\\njuniper telecoms plc,\\nhansford house,\\ncharles avenue,\\nlichfield no9 7ts\\n\\ntre\\n\\ninvoice\\n\\ninvoice # 00237/18\\ndate: 06/09/2018\\n\\nfor:\\n\\noffice 365 implementation\\np.o. number: cd6643-01/18\\n\\n \\n\\n \\n\\n \\n\\n \\n\\n \\n\\n \\n\\n \\n\\n \\n\\ndescription hours | rate/hr | amount\\n(0365 consultancy services 225 £100.00 | £2,250.00\\nms powerapps implementation 175 £100.00 | £1,750.00\\nbusiness analysis 2 £100.00 | £3,200.00\\n0365 training 115 £50.00 £575.00\\nms powerapps training 5 £50.00 £250.00\\n\\nsubtotal [_ £8,025.00\\n\\nvat @ 20% [_ £1,605.00\\n\\ntotal | £9,630.00']"
            ]
          },
          "execution_count": 14,
          "metadata": {},
          "output_type": "execute_result"
        }
      ],
      "source": [
        "non_restaurant_bills"
      ]
    },
    {
      "cell_type": "markdown",
      "metadata": {
        "id": "Ku3G1p5nIiPM"
      },
      "source": [
        "We have successfully extracted the text from the images through pytesseract."
      ]
    },
    {
      "cell_type": "markdown",
      "metadata": {
        "id": "RjL9RByeIyRv"
      },
      "source": [
        "Now we will use this text to do natural language processing and understand their contents"
      ]
    },
    {
      "cell_type": "code",
      "execution_count": null,
      "metadata": {
        "id": "AFNYoF9ooRFC"
      },
      "outputs": [],
      "source": [
        "import pandas as pd "
      ]
    },
    {
      "cell_type": "code",
      "execution_count": null,
      "metadata": {
        "id": "bENiHWGGnR8_"
      },
      "outputs": [],
      "source": [
        "res=pd.DataFrame(restaurant_bills)\n",
        "res\n",
        "res[\"label\"]=\"Res\""
      ]
    },
    {
      "cell_type": "code",
      "execution_count": null,
      "metadata": {
        "id": "qiAHQ95UoZgG"
      },
      "outputs": [],
      "source": [
        "nonres=pd.DataFrame(non_restaurant_bills)\n",
        "nonres\n",
        "nonres[\"label\"]=\"NonRes\""
      ]
    },
    {
      "cell_type": "code",
      "execution_count": null,
      "metadata": {
        "colab": {
          "base_uri": "https://localhost:8080/",
          "height": 394
        },
        "id": "tSsDAjTpogi7",
        "outputId": "2507c50d-2496-4b03-a5a4-f7e8c974d750"
      },
      "outputs": [
        {
          "data": {
            "text/html": [
              "\n",
              "  <div id=\"df-c4d9598f-9454-4cfc-8148-0f0a57acebb2\">\n",
              "    <div class=\"colab-df-container\">\n",
              "      <div>\n",
              "<style scoped>\n",
              "    .dataframe tbody tr th:only-of-type {\n",
              "        vertical-align: middle;\n",
              "    }\n",
              "\n",
              "    .dataframe tbody tr th {\n",
              "        vertical-align: top;\n",
              "    }\n",
              "\n",
              "    .dataframe thead th {\n",
              "        text-align: right;\n",
              "    }\n",
              "</style>\n",
              "<table border=\"1\" class=\"dataframe\">\n",
              "  <thead>\n",
              "    <tr style=\"text-align: right;\">\n",
              "      <th></th>\n",
              "      <th>0</th>\n",
              "      <th>label</th>\n",
              "    </tr>\n",
              "  </thead>\n",
              "  <tbody>\n",
              "    <tr>\n",
              "      <th>0</th>\n",
              "      <td>1 no waiter\\n\\nab6i5 waiter 5 06/06\\niten pric...</td>\n",
              "      <td>Res</td>\n",
              "    </tr>\n",
              "    <tr>\n",
              "      <th>1</th>\n",
              "      <td>anandha bhavan a/c\\n13 /a ecr wain road. pilla...</td>\n",
              "      <td>Res</td>\n",
              "    </tr>\n",
              "    <tr>\n",
              "      <th>2</th>\n",
              "      <td>chinese plate\\n\\nfood business center\\n\\n23232...</td>\n",
              "      <td>Res</td>\n",
              "    </tr>\n",
              "    <tr>\n",
              "      <th>3</th>\n",
              "      <td>biil\\n\\ndeso1/07/17  o1244ph m/cz04 no:459\\n45...</td>\n",
              "      <td>Res</td>\n",
              "    </tr>\n",
              "    <tr>\n",
              "      <th>4</th>\n",
              "      <td>mocambo restaurant\\n258, park street\\nkolkata-...</td>\n",
              "      <td>Res</td>\n",
              "    </tr>\n",
              "    <tr>\n",
              "      <th>5</th>\n",
              "      <td>family restaurant\\n\\nviay nagar, nearby c21 ma...</td>\n",
              "      <td>Res</td>\n",
              "    </tr>\n",
              "    <tr>\n",
              "      <th>0</th>\n",
              "      <td>, invoice\\n\\nyour company llc address 123, sta...</td>\n",
              "      <td>NonRes</td>\n",
              "    </tr>\n",
              "    <tr>\n",
              "      <th>1</th>\n",
              "      <td>d. brawn manufacture\\n\\ninvoice no. dvt-ax-345...</td>\n",
              "      <td>NonRes</td>\n",
              "    </tr>\n",
              "    <tr>\n",
              "      <th>2</th>\n",
              "      <td>[hotel name]\\n\\n[address] setup my hotel\\n\\n[c...</td>\n",
              "      <td>NonRes</td>\n",
              "    </tr>\n",
              "    <tr>\n",
              "      <th>3</th>\n",
              "      <td>sss,agency invoice\\n\\ncambridge,\\ncb2 8x\\n\\nma...</td>\n",
              "      <td>NonRes</td>\n",
              "    </tr>\n",
              "    <tr>\n",
              "      <th>4</th>\n",
              "      <td>test document\\n\\ntriad group plc\\n\\n3 caldecot...</td>\n",
              "      <td>NonRes</td>\n",
              "    </tr>\n",
              "  </tbody>\n",
              "</table>\n",
              "</div>\n",
              "      <button class=\"colab-df-convert\" onclick=\"convertToInteractive('df-c4d9598f-9454-4cfc-8148-0f0a57acebb2')\"\n",
              "              title=\"Convert this dataframe to an interactive table.\"\n",
              "              style=\"display:none;\">\n",
              "        \n",
              "  <svg xmlns=\"http://www.w3.org/2000/svg\" height=\"24px\"viewBox=\"0 0 24 24\"\n",
              "       width=\"24px\">\n",
              "    <path d=\"M0 0h24v24H0V0z\" fill=\"none\"/>\n",
              "    <path d=\"M18.56 5.44l.94 2.06.94-2.06 2.06-.94-2.06-.94-.94-2.06-.94 2.06-2.06.94zm-11 1L8.5 8.5l.94-2.06 2.06-.94-2.06-.94L8.5 2.5l-.94 2.06-2.06.94zm10 10l.94 2.06.94-2.06 2.06-.94-2.06-.94-.94-2.06-.94 2.06-2.06.94z\"/><path d=\"M17.41 7.96l-1.37-1.37c-.4-.4-.92-.59-1.43-.59-.52 0-1.04.2-1.43.59L10.3 9.45l-7.72 7.72c-.78.78-.78 2.05 0 2.83L4 21.41c.39.39.9.59 1.41.59.51 0 1.02-.2 1.41-.59l7.78-7.78 2.81-2.81c.8-.78.8-2.07 0-2.86zM5.41 20L4 18.59l7.72-7.72 1.47 1.35L5.41 20z\"/>\n",
              "  </svg>\n",
              "      </button>\n",
              "      \n",
              "  <style>\n",
              "    .colab-df-container {\n",
              "      display:flex;\n",
              "      flex-wrap:wrap;\n",
              "      gap: 12px;\n",
              "    }\n",
              "\n",
              "    .colab-df-convert {\n",
              "      background-color: #E8F0FE;\n",
              "      border: none;\n",
              "      border-radius: 50%;\n",
              "      cursor: pointer;\n",
              "      display: none;\n",
              "      fill: #1967D2;\n",
              "      height: 32px;\n",
              "      padding: 0 0 0 0;\n",
              "      width: 32px;\n",
              "    }\n",
              "\n",
              "    .colab-df-convert:hover {\n",
              "      background-color: #E2EBFA;\n",
              "      box-shadow: 0px 1px 2px rgba(60, 64, 67, 0.3), 0px 1px 3px 1px rgba(60, 64, 67, 0.15);\n",
              "      fill: #174EA6;\n",
              "    }\n",
              "\n",
              "    [theme=dark] .colab-df-convert {\n",
              "      background-color: #3B4455;\n",
              "      fill: #D2E3FC;\n",
              "    }\n",
              "\n",
              "    [theme=dark] .colab-df-convert:hover {\n",
              "      background-color: #434B5C;\n",
              "      box-shadow: 0px 1px 3px 1px rgba(0, 0, 0, 0.15);\n",
              "      filter: drop-shadow(0px 1px 2px rgba(0, 0, 0, 0.3));\n",
              "      fill: #FFFFFF;\n",
              "    }\n",
              "  </style>\n",
              "\n",
              "      <script>\n",
              "        const buttonEl =\n",
              "          document.querySelector('#df-c4d9598f-9454-4cfc-8148-0f0a57acebb2 button.colab-df-convert');\n",
              "        buttonEl.style.display =\n",
              "          google.colab.kernel.accessAllowed ? 'block' : 'none';\n",
              "\n",
              "        async function convertToInteractive(key) {\n",
              "          const element = document.querySelector('#df-c4d9598f-9454-4cfc-8148-0f0a57acebb2');\n",
              "          const dataTable =\n",
              "            await google.colab.kernel.invokeFunction('convertToInteractive',\n",
              "                                                     [key], {});\n",
              "          if (!dataTable) return;\n",
              "\n",
              "          const docLinkHtml = 'Like what you see? Visit the ' +\n",
              "            '<a target=\"_blank\" href=https://colab.research.google.com/notebooks/data_table.ipynb>data table notebook</a>'\n",
              "            + ' to learn more about interactive tables.';\n",
              "          element.innerHTML = '';\n",
              "          dataTable['output_type'] = 'display_data';\n",
              "          await google.colab.output.renderOutput(dataTable, element);\n",
              "          const docLink = document.createElement('div');\n",
              "          docLink.innerHTML = docLinkHtml;\n",
              "          element.appendChild(docLink);\n",
              "        }\n",
              "      </script>\n",
              "    </div>\n",
              "  </div>\n",
              "  "
            ],
            "text/plain": [
              "                                                   0   label\n",
              "0  1 no waiter\\n\\nab6i5 waiter 5 06/06\\niten pric...     Res\n",
              "1  anandha bhavan a/c\\n13 /a ecr wain road. pilla...     Res\n",
              "2  chinese plate\\n\\nfood business center\\n\\n23232...     Res\n",
              "3  biil\\n\\ndeso1/07/17  o1244ph m/cz04 no:459\\n45...     Res\n",
              "4  mocambo restaurant\\n258, park street\\nkolkata-...     Res\n",
              "5  family restaurant\\n\\nviay nagar, nearby c21 ma...     Res\n",
              "0  , invoice\\n\\nyour company llc address 123, sta...  NonRes\n",
              "1  d. brawn manufacture\\n\\ninvoice no. dvt-ax-345...  NonRes\n",
              "2  [hotel name]\\n\\n[address] setup my hotel\\n\\n[c...  NonRes\n",
              "3  sss,agency invoice\\n\\ncambridge,\\ncb2 8x\\n\\nma...  NonRes\n",
              "4  test document\\n\\ntriad group plc\\n\\n3 caldecot...  NonRes"
            ]
          },
          "execution_count": 18,
          "metadata": {},
          "output_type": "execute_result"
        }
      ],
      "source": [
        "df=pd.concat([res,nonres])\n",
        "df"
      ]
    },
    {
      "cell_type": "code",
      "execution_count": null,
      "metadata": {
        "id": "-v9rHXGdpALv"
      },
      "outputs": [],
      "source": [
        "df.columns=['bill','label']"
      ]
    },
    {
      "cell_type": "code",
      "execution_count": null,
      "metadata": {
        "id": "E8LAGeIApKMG"
      },
      "outputs": [],
      "source": [
        "import pandas as pd\n",
        "import numpy as np\n",
        "import seaborn as sns\n",
        "import matplotlib.pyplot as plt\n",
        "import matplotlib\n",
        "matplotlib.rcParams[\"figure.figsize\"]=(20,10)\n",
        "from sklearn.decomposition import TruncatedSVD \n",
        "from sklearn.feature_extraction.text import TfidfVectorizer \n",
        "from sklearn.linear_model import LogisticRegression \n",
        "from sklearn.ensemble import GradientBoostingClassifier\n",
        "from sklearn.model_selection import train_test_split,cross_val_score\n",
        "from sklearn.metrics import cohen_kappa_score,accuracy_score\n",
        "import nltk\n",
        "from nltk.corpus import stopwords\n",
        "from sklearn.feature_extraction.text import TfidfVectorizer\n",
        "from sklearn.decomposition import TruncatedSVD\n",
        "from wordcloud import WordCloud,STOPWORDS\n",
        "from sklearn.feature_extraction.text import CountVectorizer\n",
        "from collections import Counter \n",
        "from sklearn.linear_model import LogisticRegression\n",
        "from sklearn.tree import DecisionTreeClassifier  \n",
        "from sklearn.svm import SVC "
      ]
    },
    {
      "cell_type": "markdown",
      "metadata": {
        "id": "blpTPLrFYIUH"
      },
      "source": [
        "We formulate the problem as a classification problem"
      ]
    },
    {
      "cell_type": "code",
      "execution_count": null,
      "metadata": {
        "id": "Fw4Y4EmKowYz"
      },
      "outputs": [],
      "source": [
        "def model_TFIDF(df):\n",
        "  X=df.bill\n",
        "  y=df.label\n",
        "  x_train,x_val,y_train,y_val=train_test_split(X,y,test_size=0.3,random_state=123456)\n",
        "  vectorizer=TfidfVectorizer(stop_words=STOPWORDS,use_idf=True,ngram_range=(1,1))\n",
        "  vectorizer.fit(x_train)\n",
        "  x_train=vectorizer.transform(x_train)\n",
        "  x_val=vectorizer.transform(x_val)\n",
        "  print(x_train)\n",
        "  print(x_train.shape)\n",
        "  print(x_val.shape) \n",
        "  \n",
        "  def model(model):\n",
        "    model.fit(X=x_train,y=y_train)\n",
        "    pred_val=model.predict(x_val)\n",
        "    acc=accuracy_score(pred_val,y_val)\n",
        "    cohen=cohen_kappa_score(pred_val,y_val)\n",
        "    return (acc,cohen) \n",
        "  lr=LogisticRegression()\n",
        "  x=model(lr)\n",
        "  print(f\"Accuracy for Logistic Regression is {x[0]}\")\n",
        "  print(f\"Cohen Kappa Score for Logistic Regression is {x[1]}\")\n",
        "  tree=DecisionTreeClassifier()\n",
        "  x=model(tree)\n",
        "  print(f\"Accuracy for Decision Tree is {x[0]}\")\n",
        "  print(f\"Cohen Kappa Score for Decision Tree is {x[1]}\")\n",
        "  sv=SVC()\n",
        "  x=model(sv) \n",
        "  print(f\"Accuracy for Suppoert Vector Machine is {x[0]}\")\n",
        "  print(f\"Cohen Kappa Score for Suppoert Vector Machine is {x[1]}\")"
      ]
    },
    {
      "cell_type": "code",
      "execution_count": null,
      "metadata": {
        "colab": {
          "base_uri": "https://localhost:8080/"
        },
        "id": "FxsOUQS3pXIw",
        "outputId": "5d3c8142-be21-4ef8-d9c2-de9ed89a863e"
      },
      "outputs": [
        {
          "name": "stdout",
          "output_type": "stream",
          "text": [
            "  (0, 301)\t0.14676549663191074\n",
            "  (0, 300)\t0.14676549663191074\n",
            "  (0, 298)\t0.14676549663191074\n",
            "  (0, 288)\t0.15839395335846307\n",
            "  (0, 282)\t0.14676549663191074\n",
            "  (0, 277)\t0.14676549663191074\n",
            "  (0, 250)\t0.14676549663191074\n",
            "  (0, 246)\t0.07919697667923153\n",
            "  (0, 245)\t0.14676549663191074\n",
            "  (0, 243)\t0.24365593264432706\n",
            "  (0, 233)\t0.14676549663191074\n",
            "  (0, 231)\t0.14676549663191074\n",
            "  (0, 229)\t0.14676549663191074\n",
            "  (0, 213)\t0.14676549663191074\n",
            "  (0, 212)\t0.14676549663191074\n",
            "  (0, 211)\t0.10413450698897875\n",
            "  (0, 210)\t0.14676549663191074\n",
            "  (0, 207)\t0.14676549663191074\n",
            "  (0, 202)\t0.14676549663191074\n",
            "  (0, 201)\t0.14676549663191074\n",
            "  (0, 200)\t0.14676549663191074\n",
            "  (0, 199)\t0.14676549663191074\n",
            "  (0, 194)\t0.14676549663191074\n",
            "  (0, 184)\t0.10413450698897875\n",
            "  (0, 183)\t0.14676549663191074\n",
            "  :\t:\n",
            "  (6, 274)\t0.1597067022908152\n",
            "  (6, 265)\t0.19239780638849915\n",
            "  (6, 252)\t0.1597067022908152\n",
            "  (6, 251)\t0.1597067022908152\n",
            "  (6, 246)\t0.10382089070907874\n",
            "  (6, 235)\t0.19239780638849915\n",
            "  (6, 215)\t0.19239780638849915\n",
            "  (6, 211)\t0.13651199480676268\n",
            "  (6, 174)\t0.19239780638849915\n",
            "  (6, 172)\t0.19239780638849915\n",
            "  (6, 159)\t0.19239780638849915\n",
            "  (6, 146)\t0.10382089070907874\n",
            "  (6, 110)\t0.19239780638849915\n",
            "  (6, 107)\t0.19239780638849915\n",
            "  (6, 103)\t0.19239780638849915\n",
            "  (6, 102)\t0.19239780638849915\n",
            "  (6, 76)\t0.19239780638849915\n",
            "  (6, 69)\t0.19239780638849915\n",
            "  (6, 63)\t0.19239780638849915\n",
            "  (6, 49)\t0.19239780638849915\n",
            "  (6, 39)\t0.1597067022908152\n",
            "  (6, 26)\t0.19239780638849915\n",
            "  (6, 13)\t0.1597067022908152\n",
            "  (6, 4)\t0.13651199480676268\n",
            "  (6, 0)\t0.10382089070907874\n",
            "(7, 311)\n",
            "(4, 311)\n",
            "Accuracy for Logistic Regression is 0.25\n",
            "Cohen Kappa Score for Logistic Regression is 0.0\n",
            "Accuracy for Decision Tree is 0.5\n",
            "Cohen Kappa Score for Decision Tree is 0.19999999999999996\n",
            "Accuracy for Suppoert Vector Machine is 0.25\n",
            "Cohen Kappa Score for Suppoert Vector Machine is 0.0\n"
          ]
        },
        {
          "name": "stderr",
          "output_type": "stream",
          "text": [
            "/usr/local/lib/python3.7/dist-packages/sklearn/feature_extraction/text.py:401: UserWarning: Your stop_words may be inconsistent with your preprocessing. Tokenizing the stop words generated tokens ['aren', 'couldn', 'didn', 'doesn', 'don', 'hadn', 'hasn', 'haven', 'isn', 'let', 'll', 'mustn', 're', 'shan', 'shouldn', 've', 'wasn', 'weren', 'won', 'wouldn'] not in stop_words.\n",
            "  % sorted(inconsistent)\n"
          ]
        }
      ],
      "source": [
        "model_TFIDF(df)"
      ]
    },
    {
      "cell_type": "code",
      "execution_count": null,
      "metadata": {
        "id": "82wNqyLZpfXw"
      },
      "outputs": [],
      "source": [
        "def model_SVD(df):\n",
        "  X=df.bill\n",
        "  y=df.label\n",
        "  x_train,x_val,y_train,y_val=train_test_split(X,y,test_size=0.3,random_state=123456)\n",
        "  vectorizer=TfidfVectorizer(stop_words=STOPWORDS,use_idf=True,ngram_range=(1,1))\n",
        "  vectorizer.fit(x_train)\n",
        "  x_train=vectorizer.transform(x_train)\n",
        "  x_val=vectorizer.transform(x_val)\n",
        "  SV=TruncatedSVD(n_components=10)\n",
        "  SV.fit(x_train)\n",
        "  x_train=SV.fit_transform(x_train)\n",
        "  print(x_train)\n",
        "  print(x_train.shape)\n",
        "  x_val=SV.transform(x_val)\n",
        "  def model(model):\n",
        "    model.fit(X=x_train,y=y_train)\n",
        "    pred_val=model.predict(x_val)\n",
        "    acc=accuracy_score(pred_val,y_val)\n",
        "    cohen=cohen_kappa_score(pred_val,y_val)\n",
        "    return (acc,cohen) \n",
        "  lr=LogisticRegression()\n",
        "  x=model(lr)\n",
        "  print(f\"Accuracy for Logistic Regression is {x[0]}\")\n",
        "  print(f\"Cohen Kappa Score for Logistic Regression is {x[1]}\")\n",
        "  tree=DecisionTreeClassifier()\n",
        "  x=model(tree)\n",
        "  print(f\"Accuracy for Decision Tree is {x[0]}\")\n",
        "  print(f\"Cohen Kappa Score for Decision Tree is {x[1]}\")\n",
        "  sv=SVC()\n",
        "  x=model(sv) \n",
        "  print(f\"Accuracy for Suppoert Vector Machine is {x[0]}\")\n",
        "  print(f\"Cohen Kappa Score for Suppoert Vector Machine is {x[1]}\")"
      ]
    },
    {
      "cell_type": "code",
      "execution_count": null,
      "metadata": {
        "colab": {
          "base_uri": "https://localhost:8080/"
        },
        "id": "-Q7Sf88Vp048",
        "outputId": "dc071b28-9cb6-4c3f-98fd-4705b72bf634"
      },
      "outputs": [
        {
          "name": "stdout",
          "output_type": "stream",
          "text": [
            "[[ 0.42095338  0.06037672  0.18023094 -0.30663512  0.8239012  -0.1167163\n",
            "   0.01444757]\n",
            " [ 0.22270675  0.63992229  0.66127746 -0.06357196 -0.23361631  0.2010025\n",
            "  -0.06777391]\n",
            " [ 0.58853541 -0.23571119 -0.20245115 -0.05373112 -0.02073644  0.70245236\n",
            "  -0.2456084 ]\n",
            " [ 0.62576226 -0.22012701  0.09044736 -0.0400633  -0.27416879 -0.50862881\n",
            "  -0.46508935]\n",
            " [ 0.68851131 -0.16546795  0.04813219  0.00734623 -0.22763738 -0.07561853\n",
            "   0.66231784]\n",
            " [ 0.19678291  0.59408708 -0.65517845 -0.39103494 -0.12259529 -0.10523841\n",
            "   0.0080731 ]\n",
            " [ 0.32525234  0.32455148 -0.1992308   0.83572279  0.21468905 -0.055331\n",
            "  -0.03998562]]\n",
            "(7, 7)\n",
            "Accuracy for Logistic Regression is 0.25\n",
            "Cohen Kappa Score for Logistic Regression is 0.0\n",
            "Accuracy for Decision Tree is 0.25\n",
            "Cohen Kappa Score for Decision Tree is 0.0\n",
            "Accuracy for Suppoert Vector Machine is 0.25\n",
            "Cohen Kappa Score for Suppoert Vector Machine is 0.0\n"
          ]
        },
        {
          "name": "stderr",
          "output_type": "stream",
          "text": [
            "/usr/local/lib/python3.7/dist-packages/sklearn/feature_extraction/text.py:401: UserWarning: Your stop_words may be inconsistent with your preprocessing. Tokenizing the stop words generated tokens ['aren', 'couldn', 'didn', 'doesn', 'don', 'hadn', 'hasn', 'haven', 'isn', 'let', 'll', 'mustn', 're', 'shan', 'shouldn', 've', 'wasn', 'weren', 'won', 'wouldn'] not in stop_words.\n",
            "  % sorted(inconsistent)\n"
          ]
        }
      ],
      "source": [
        "model_SVD(df)"
      ]
    },
    {
      "cell_type": "markdown",
      "metadata": {
        "id": "SEXMHntdYN63"
      },
      "source": [
        "We use TF IDF and then apply truncated SVD as we need to transform the text to apply ML models on the data"
      ]
    },
    {
      "cell_type": "code",
      "execution_count": null,
      "metadata": {
        "colab": {
          "base_uri": "https://localhost:8080/"
        },
        "id": "u9d-CnMMp36k",
        "outputId": "f955e919-5cdb-4f96-8ae6-f40121990eeb"
      },
      "outputs": [
        {
          "name": "stderr",
          "output_type": "stream",
          "text": [
            "/usr/local/lib/python3.7/dist-packages/sklearn/feature_extraction/text.py:401: UserWarning: Your stop_words may be inconsistent with your preprocessing. Tokenizing the stop words generated tokens ['aren', 'couldn', 'didn', 'doesn', 'don', 'hadn', 'hasn', 'haven', 'isn', 'let', 'll', 'mustn', 're', 'shan', 'shouldn', 've', 'wasn', 'weren', 'won', 'wouldn'] not in stop_words.\n",
            "  % sorted(inconsistent)\n"
          ]
        }
      ],
      "source": [
        "X=df.bill\n",
        "y=df.label\n",
        "vectorizer=TfidfVectorizer(stop_words=STOPWORDS,use_idf=True,ngram_range=(1,1))\n",
        "vectorizer.fit(X)\n",
        "x=vectorizer.transform(X)\n",
        "SV=TruncatedSVD(n_components=10)\n",
        "SV.fit(x)\n",
        "x=SV.transform(x)\n",
        "def model(model):\n",
        "    model.fit(X=x,y=y)\n",
        "    return model\n",
        "lr=LogisticRegression()\n",
        "m=model(lr)"
      ]
    },
    {
      "cell_type": "markdown",
      "metadata": {
        "id": "FP5utSpCYUj8"
      },
      "source": [
        "We pass the fitted model and the image address for testing"
      ]
    },
    {
      "cell_type": "code",
      "execution_count": null,
      "metadata": {
        "id": "QXHHwdTd_NEW"
      },
      "outputs": [],
      "source": [
        "def test(address,model):\n",
        "  text=get_text(address)\n",
        "  a=[]\n",
        "  a.append(text)\n",
        "  t=pd.DataFrame(a)\n",
        "  t=t.iloc[:,0]\n",
        "  print(t)\n",
        "  t=vectorizer.transform(t)\n",
        "  t=SV.transform(t)\n",
        "  print(f\"The prediction is {model.predict(t)[0]}\")"
      ]
    },
    {
      "cell_type": "code",
      "execution_count": null,
      "metadata": {
        "colab": {
          "base_uri": "https://localhost:8080/"
        },
        "id": "2kDHg6E6tPpu",
        "outputId": "3b7c8be8-a7d8-455d-b6fb-91c316556be1"
      },
      "outputs": [
        {
          "name": "stdout",
          "output_type": "stream",
          "text": [
            "0    ' invoice\\n\\nyour company llc address 123, sta...\n",
            "Name: 0, dtype: object\n",
            "The prediction is NonRes\n"
          ]
        }
      ],
      "source": [
        "test('/content/drive/MyDrive/EY/1.jpg',m)"
      ]
    },
    {
      "cell_type": "code",
      "execution_count": null,
      "metadata": {
        "colab": {
          "base_uri": "https://localhost:8080/"
        },
        "id": "3iTdI6jtQcnh",
        "outputId": "9309304c-6649-4721-f1ab-4bcb9fc15246"
      },
      "outputs": [
        {
          "name": "stdout",
          "output_type": "stream",
          "text": [
            "0    ying thai kitchen\\n2220 queen anne ave n\\nseat...\n",
            "Name: 0, dtype: object\n",
            "The prediction is Res\n"
          ]
        }
      ],
      "source": [
        "test('/content/drive/MyDrive/EY/bill3.jpg',m)"
      ]
    },
    {
      "cell_type": "code",
      "execution_count": null,
      "metadata": {
        "colab": {
          "base_uri": "https://localhost:8080/"
        },
        "id": "C0SEa2BJQcfZ",
        "outputId": "bc9a2241-8db3-490a-fc4f-d96983120546"
      },
      "outputs": [
        {
          "name": "stdout",
          "output_type": "stream",
          "text": [
            "0    “a\\n\\ndll\\n\\nwe understand your world\\nhari sa...\n",
            "Name: 0, dtype: object\n",
            "The prediction is Res\n"
          ]
        }
      ],
      "source": [
        "test('/content/drive/MyDrive/EY/petrolbill.jpg',m)"
      ]
    },
    {
      "cell_type": "markdown",
      "metadata": {
        "id": "d3trFSxIR_iY"
      },
      "source": [
        "#Decision Tree"
      ]
    },
    {
      "cell_type": "code",
      "execution_count": null,
      "metadata": {
        "colab": {
          "base_uri": "https://localhost:8080/"
        },
        "id": "jaRXZFz1QxV7",
        "outputId": "4d995535-2a44-4450-eac5-5741bfe56c92"
      },
      "outputs": [
        {
          "name": "stdout",
          "output_type": "stream",
          "text": [
            "0    ' invoice\\n\\nyour company llc address 123, sta...\n",
            "Name: 0, dtype: object\n",
            "The prediction is NonRes\n"
          ]
        }
      ],
      "source": [
        "tree=DecisionTreeClassifier()\n",
        "m=model(tree)\n",
        "test('/content/drive/MyDrive/EY/1.jpg',m)"
      ]
    },
    {
      "cell_type": "code",
      "execution_count": null,
      "metadata": {
        "colab": {
          "base_uri": "https://localhost:8080/"
        },
        "id": "A2kk6R8yQxPC",
        "outputId": "c6eb8bdb-808f-42b7-a6a3-564e3c979f4a"
      },
      "outputs": [
        {
          "name": "stdout",
          "output_type": "stream",
          "text": [
            "0    ying thai kitchen\\n2220 queen anne ave n\\nseat...\n",
            "Name: 0, dtype: object\n",
            "The prediction is NonRes\n"
          ]
        }
      ],
      "source": [
        "test('/content/drive/MyDrive/EY/bill3.jpg',m)"
      ]
    },
    {
      "cell_type": "code",
      "execution_count": null,
      "metadata": {
        "colab": {
          "base_uri": "https://localhost:8080/"
        },
        "id": "gxFcBe7TRfEX",
        "outputId": "41d7c235-dbdc-47de-9e72-e1df604f5c5b"
      },
      "outputs": [
        {
          "name": "stdout",
          "output_type": "stream",
          "text": [
            "0    “a\\n\\ndll\\n\\nwe understand your world\\nhari sa...\n",
            "Name: 0, dtype: object\n",
            "The prediction is NonRes\n"
          ]
        }
      ],
      "source": [
        "test('/content/drive/MyDrive/EY/petrolbill.jpg',m)"
      ]
    },
    {
      "cell_type": "markdown",
      "metadata": {
        "id": "eeTQYGLSSEHj"
      },
      "source": [
        "#Support Vector Machine"
      ]
    },
    {
      "cell_type": "code",
      "execution_count": null,
      "metadata": {
        "colab": {
          "base_uri": "https://localhost:8080/"
        },
        "id": "XGJ9ry8cRinW",
        "outputId": "6888786b-10a9-4f8d-9549-a59416259d84"
      },
      "outputs": [
        {
          "name": "stdout",
          "output_type": "stream",
          "text": [
            "0    ' invoice\\n\\nyour company llc address 123, sta...\n",
            "Name: 0, dtype: object\n",
            "The prediction is NonRes\n"
          ]
        }
      ],
      "source": [
        "sv=SVC()\n",
        "m=model(sv)\n",
        "test('/content/drive/MyDrive/EY/1.jpg',m)"
      ]
    },
    {
      "cell_type": "code",
      "execution_count": null,
      "metadata": {
        "colab": {
          "base_uri": "https://localhost:8080/"
        },
        "id": "5bv7S2pHW0Ob",
        "outputId": "d16e8b40-ae3a-4f84-89d8-1f2ecc8775ac"
      },
      "outputs": [
        {
          "name": "stdout",
          "output_type": "stream",
          "text": [
            "0    ying thai kitchen\\n2220 queen anne ave n\\nseat...\n",
            "Name: 0, dtype: object\n",
            "The prediction is Res\n"
          ]
        }
      ],
      "source": [
        "test('/content/drive/MyDrive/EY/bill3.jpg',m)"
      ]
    },
    {
      "cell_type": "code",
      "execution_count": null,
      "metadata": {
        "colab": {
          "base_uri": "https://localhost:8080/"
        },
        "id": "dAuopkxSW3fN",
        "outputId": "6bc1be61-8a91-4a87-d6a9-f557103281ec"
      },
      "outputs": [
        {
          "name": "stdout",
          "output_type": "stream",
          "text": [
            "0    “a\\n\\ndll\\n\\nwe understand your world\\nhari sa...\n",
            "Name: 0, dtype: object\n",
            "The prediction is Res\n"
          ]
        }
      ],
      "source": [
        "test('/content/drive/MyDrive/EY/petrolbill.jpg',m)"
      ]
    },
    {
      "cell_type": "markdown",
      "metadata": {
        "id": "d0wSZmxOV8Si"
      },
      "source": [
        "#KNN"
      ]
    },
    {
      "cell_type": "code",
      "execution_count": null,
      "metadata": {
        "id": "zRmQPLsyW6oY"
      },
      "outputs": [],
      "source": [
        "from sklearn.neighbors import KNeighborsClassifier"
      ]
    },
    {
      "cell_type": "code",
      "execution_count": null,
      "metadata": {
        "colab": {
          "base_uri": "https://localhost:8080/"
        },
        "id": "b7m_FUKQWD3z",
        "outputId": "aee66ee1-56a4-463d-ff4b-2c62ca8dc8a7"
      },
      "outputs": [
        {
          "name": "stdout",
          "output_type": "stream",
          "text": [
            "0    ' invoice\\n\\nyour company llc address 123, sta...\n",
            "Name: 0, dtype: object\n",
            "The prediction is NonRes\n"
          ]
        }
      ],
      "source": [
        "knn=KNeighborsClassifier()\n",
        "m=model(knn)\n",
        "test('/content/drive/MyDrive/EY/1.jpg',m)"
      ]
    },
    {
      "cell_type": "code",
      "execution_count": null,
      "metadata": {
        "colab": {
          "base_uri": "https://localhost:8080/"
        },
        "id": "pw_kJFcgWD6N",
        "outputId": "f2755590-0f7e-4814-bce0-e60d6286b287"
      },
      "outputs": [
        {
          "name": "stdout",
          "output_type": "stream",
          "text": [
            "0    ying thai kitchen\\n2220 queen anne ave n\\nseat...\n",
            "Name: 0, dtype: object\n",
            "The prediction is Res\n"
          ]
        }
      ],
      "source": [
        "test('/content/drive/MyDrive/EY/bill3.jpg',m)"
      ]
    },
    {
      "cell_type": "code",
      "execution_count": null,
      "metadata": {
        "colab": {
          "base_uri": "https://localhost:8080/"
        },
        "id": "eU4lB4-IWEE8",
        "outputId": "98437f13-f347-4c0c-9c8e-745401417459"
      },
      "outputs": [
        {
          "name": "stdout",
          "output_type": "stream",
          "text": [
            "0    “a\\n\\ndll\\n\\nwe understand your world\\nhari sa...\n",
            "Name: 0, dtype: object\n",
            "The prediction is NonRes\n"
          ]
        }
      ],
      "source": [
        "test('/content/drive/MyDrive/EY/petrolbill.jpg',m)"
      ]
    },
    {
      "cell_type": "markdown",
      "metadata": {
        "id": "staX_o7cWmYD"
      },
      "source": [
        "#Naive Bayes"
      ]
    },
    {
      "cell_type": "code",
      "execution_count": null,
      "metadata": {
        "id": "f0XG_LkQWtQ8"
      },
      "outputs": [],
      "source": [
        "from sklearn.naive_bayes import GaussianNB"
      ]
    },
    {
      "cell_type": "code",
      "execution_count": null,
      "metadata": {
        "colab": {
          "base_uri": "https://localhost:8080/"
        },
        "id": "QRyQNdWcWtKH",
        "outputId": "e6f624ac-57e5-4559-a2a8-1bee7f6c7e64"
      },
      "outputs": [
        {
          "name": "stdout",
          "output_type": "stream",
          "text": [
            "0    ' invoice\\n\\nyour company llc address 123, sta...\n",
            "Name: 0, dtype: object\n",
            "The prediction is NonRes\n"
          ]
        }
      ],
      "source": [
        "gnb=GaussianNB()\n",
        "m=model(gnb)\n",
        "test('/content/drive/MyDrive/EY/1.jpg',m)"
      ]
    },
    {
      "cell_type": "code",
      "execution_count": null,
      "metadata": {
        "colab": {
          "base_uri": "https://localhost:8080/"
        },
        "id": "Qnk9BQhaWtFW",
        "outputId": "df2ea8d4-d68c-4bbb-aa4b-46dd381b69d3"
      },
      "outputs": [
        {
          "name": "stdout",
          "output_type": "stream",
          "text": [
            "0    ying thai kitchen\\n2220 queen anne ave n\\nseat...\n",
            "Name: 0, dtype: object\n",
            "The prediction is Res\n"
          ]
        }
      ],
      "source": [
        "test('/content/drive/MyDrive/EY/bill3.jpg',m)"
      ]
    },
    {
      "cell_type": "code",
      "execution_count": null,
      "metadata": {
        "colab": {
          "base_uri": "https://localhost:8080/"
        },
        "id": "0_weoeYMW3Vt",
        "outputId": "95002037-9d4a-4e38-ac45-62acc7088952"
      },
      "outputs": [
        {
          "name": "stdout",
          "output_type": "stream",
          "text": [
            "0    “a\\n\\ndll\\n\\nwe understand your world\\nhari sa...\n",
            "Name: 0, dtype: object\n",
            "The prediction is NonRes\n"
          ]
        }
      ],
      "source": [
        "test('/content/drive/MyDrive/EY/petrolbill.jpg',m)"
      ]
    },
    {
      "cell_type": "markdown",
      "metadata": {
        "id": "bgSzXmEAHAjk"
      },
      "source": [
        "#Result"
      ]
    },
    {
      "cell_type": "markdown",
      "metadata": {
        "id": "Lb8YCoY5JiHw"
      },
      "source": [
        "As it can be seen above, KNN and Naive Bayes were able to classify the bills properly into their respective categories."
      ]
    },
    {
      "cell_type": "markdown",
      "metadata": {
        "id": "eFpLOT_vJ6xM"
      },
      "source": [
        "#Conclusion"
      ]
    },
    {
      "cell_type": "markdown",
      "metadata": {
        "id": "OtNToRgKJ-7C"
      },
      "source": [
        "We can see that we successfully developed a program which could read images, extract text out of these images.After this, we labelled these texts as restuarant bills and non-restuarant bills.After this we transformed the text in TF IDF and then transformed the it in truncated SVD with number of components=10. After this we formulated it as a classification problem and applied Logistic Regression,Decision Tree, Support Vector Machine,KNN Classification and Naive Bayes.We tested the models on 3 test data and it KNN and Naive Bayes were able to classify these 3 bills correctly.\n",
        "\n",
        "Though we had only few bills for training and testing the model, we know as per experience, that, the more data nlp models have the better they start to perform; and thus our model can be improved much further and that can be the future scope of this project."
      ]
    },
    {
      "cell_type": "code",
      "execution_count": null,
      "metadata": {
        "id": "1NWZjj0WAoIu"
      },
      "outputs": [],
      "source": []
    }
  ],
  "metadata": {
    "colab": {
      "collapsed_sections": [],
      "provenance": [],
      "toc_visible": true
    },
    "kernelspec": {
      "display_name": "Python 3 (ipykernel)",
      "language": "python",
      "name": "python3"
    },
    "language_info": {
      "codemirror_mode": {
        "name": "ipython",
        "version": 3
      },
      "file_extension": ".py",
      "mimetype": "text/x-python",
      "name": "python",
      "nbconvert_exporter": "python",
      "pygments_lexer": "ipython3",
      "version": "3.9.12"
    }
  },
  "nbformat": 4,
  "nbformat_minor": 0
}