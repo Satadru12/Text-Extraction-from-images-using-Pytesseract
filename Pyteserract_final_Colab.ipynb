{
  "cells": [
    {
      "cell_type": "markdown",
      "metadata": {
        "id": "ZAotIpS0H04-"
      },
      "source": [
        "#Objective - To identify if the bills provided are from restaurants or from non-restaurants. "
      ]
    },
    {
      "cell_type": "markdown",
      "metadata": {
        "id": "SJzXDlXDIWE2"
      },
      "source": [
        "Importing necessary modules"
      ]
    },
    {
      "cell_type": "code",
      "execution_count": 1,
      "metadata": {
        "colab": {
          "base_uri": "https://localhost:8080/"
        },
        "id": "wwOSvATARPQL",
        "outputId": "e36d5535-5133-4b4e-912d-1999cd562ef8"
      },
      "outputs": [
        {
          "output_type": "stream",
          "name": "stdout",
          "text": [
            "Reading package lists... Done\n",
            "Building dependency tree       \n",
            "Reading state information... Done\n",
            "tesseract-ocr is already the newest version (4.00~git2288-10f4998a-2).\n",
            "The following package was automatically installed and is no longer required:\n",
            "  libnvidia-common-460\n",
            "Use 'sudo apt autoremove' to remove it.\n",
            "0 upgraded, 0 newly installed, 0 to remove and 29 not upgraded.\n",
            "Looking in indexes: https://pypi.org/simple, https://us-python.pkg.dev/colab-wheels/public/simple/\n",
            "Requirement already satisfied: pytesseract in /usr/local/lib/python3.7/dist-packages (0.3.10)\n",
            "Requirement already satisfied: packaging>=21.3 in /usr/local/lib/python3.7/dist-packages (from pytesseract) (21.3)\n",
            "Requirement already satisfied: Pillow>=8.0.0 in /usr/local/lib/python3.7/dist-packages (from pytesseract) (9.2.0)\n",
            "Requirement already satisfied: pyparsing!=3.0.5,>=2.0.2 in /usr/local/lib/python3.7/dist-packages (from packaging>=21.3->pytesseract) (3.0.9)\n"
          ]
        }
      ],
      "source": [
        "!sudo apt install tesseract-ocr\n",
        "!pip install pytesseract"
      ]
    },
    {
      "cell_type": "code",
      "execution_count": 2,
      "metadata": {
        "colab": {
          "base_uri": "https://localhost:8080/"
        },
        "id": "3lRt4Jq4r5L4",
        "outputId": "47f8ad51-24ac-41d7-f14a-a53f312d7cd1"
      },
      "outputs": [
        {
          "output_type": "stream",
          "name": "stdout",
          "text": [
            "Drive already mounted at /content/drive; to attempt to forcibly remount, call drive.mount(\"/content/drive\", force_remount=True).\n"
          ]
        }
      ],
      "source": [
        "from google.colab import drive\n",
        "drive.mount('/content/drive')"
      ]
    },
    {
      "cell_type": "code",
      "execution_count": 3,
      "metadata": {
        "id": "3Upr0leAWlad"
      },
      "outputs": [],
      "source": [
        "import pytesseract\n",
        "import shutil\n",
        "import os\n",
        "import random\n",
        "try:\n",
        " from PIL import Image\n",
        "except ImportError:\n",
        " import Image"
      ]
    },
    {
      "cell_type": "markdown",
      "metadata": {
        "id": "rYF7ofh4Z0BC"
      },
      "source": [
        "**project**"
      ]
    },
    {
      "cell_type": "markdown",
      "metadata": {
        "id": "okqmas4_fDKU"
      },
      "source": [
        "**bill classification**"
      ]
    },
    {
      "cell_type": "markdown",
      "metadata": {
        "id": "mq9vqjjeXqZK"
      },
      "source": [
        "**get_text function reads the text from the image using pytesseract**"
      ]
    },
    {
      "cell_type": "code",
      "execution_count": 4,
      "metadata": {
        "id": "dpsxMJZccLz1"
      },
      "outputs": [],
      "source": [
        "def get_text(address):\n",
        "  extractedInformation = pytesseract.image_to_string(Image.open(address))\n",
        "  return extractedInformation.lower().strip()"
      ]
    },
    {
      "cell_type": "code",
      "execution_count": 5,
      "metadata": {
        "id": "yyVcjsaOlpz1"
      },
      "outputs": [],
      "source": [
        "import os"
      ]
    },
    {
      "cell_type": "code",
      "execution_count": 6,
      "metadata": {
        "colab": {
          "base_uri": "https://localhost:8080/"
        },
        "id": "zY4rMTHAltks",
        "outputId": "ca4fb4d9-148d-4dbc-8b75-f1f7487beb74"
      },
      "outputs": [
        {
          "output_type": "execute_result",
          "data": {
            "text/plain": [
              "['r2.jpg',\n",
              " 'r6.jpg',\n",
              " 'r5.jpg',\n",
              " 'r1.jpg',\n",
              " 'r3.jpeg',\n",
              " 'r4.jpg',\n",
              " 'r7.jpg',\n",
              " 'r8.jpg',\n",
              " 'r9.jpg',\n",
              " 'r10.jpg']"
            ]
          },
          "metadata": {},
          "execution_count": 6
        }
      ],
      "source": [
        "a=os.listdir(\"/content/drive/MyDrive/EY/res1\")\n",
        "a"
      ]
    },
    {
      "cell_type": "code",
      "execution_count": 7,
      "metadata": {
        "id": "6BIeWwuql0fX"
      },
      "outputs": [],
      "source": [
        "restaurant_bills=[]"
      ]
    },
    {
      "cell_type": "markdown",
      "metadata": {
        "id": "fcVAMqaqX2B2"
      },
      "source": [
        "Here we loop through all the files in the folder res1 and extract the text from the respective image files"
      ]
    },
    {
      "cell_type": "code",
      "execution_count": 8,
      "metadata": {
        "id": "xQ502GTcl5h_"
      },
      "outputs": [],
      "source": [
        "for i in a:\n",
        "  address=f\"/content/drive/MyDrive/EY/res1/{i}\"\n",
        "  restaurant_bills.append(get_text(address))"
      ]
    },
    {
      "cell_type": "code",
      "execution_count": 9,
      "metadata": {
        "colab": {
          "base_uri": "https://localhost:8080/"
        },
        "id": "A2ugJZgXmS77",
        "outputId": "555b3588-1cd4-4883-cbf0-e06fc1ea7b53"
      },
      "outputs": [
        {
          "output_type": "execute_result",
          "data": {
            "text/plain": [
              "['1 no waiter\\n\\nab6i5 waiter 5 06/06\\niten price oty\\nflavoured wojito 330, 00 1\\nsaaneh mint 170.00 1\\n‘ong island elec 340.00 2\\ncrunchy salad 180.00 1.000\\nassorted satay 260.00 1\\n\\n \\n\\ntequila chicken 320.00 1.000\\nfajitas chicken 300.00 1.0u0 ).{\\nsurf n turf 360, oo 1.000 360.¢\\ntotal seaat ity 9. 00\\n\\ngross total\\n\\nvat 5.5%\\n\\nvat 14.5 %\\n\\nservice tax 5.6%\\nservice charges 10.00%\\nnet amount\\nget back joe joe!\\n\\npo ee ie ahi i ea: a ie ee ee ee ee\\n\\na nl a eal ia',\n",
              " 'mocambo restaurant\\n258, park street\\nkolkata- 700016\\n\\n22290095/22654300\\n\\nvat # 19430049049\\n\\nst#afzpk5418csd001\\n\\ninvoice\\n\\nmemo# 14/19806 03:35 pm 24-sep-2014\\nuser: lal babu pax# 2\\n\\ntablet pec\\n\\nproduct qty i amount\\ndevilled crab 1 296.00 296.00\\nfresh lime soda 2 66.00 130.00\\nfish diana 1 378.00 378.00\\nsurf & turf 1 493.00 493.00\\np.a. souffle 1 188,00: 128.00\\nsub total 1430. 00\\nservice tax@4, 944% 10. 70\\nvat @ 14.5 % 207. 36\\nround off: = 06\\ntotal qty: 6 amt: 1708. 00\\n\\nconned one thousand seven hundred eight\\nnly\\nthank you',\n",
              " 'anandha bhavan a/c\\n13 /a ecr wain road. pillatyarkuppam\\ngstin 34aayfa450681z0\\n‘wish you all a very happy. new year\\ndate 26/01/2018 time :09:53 aw\\nwaiter :siva.a table :8\\n\\nname rate ty asount\\n\\n \\n\\nrs.404.00 j\\n\\nthan you. visit again',\n",
              " 'biil\\n\\ndeso1/07/17  o1244ph m/cz04 no:459\\n45/0 the2 w210\\n\\ndescription qty rate = amount\\nresh coffee 2 40.0 80.00\\nfood amt rs. 80.00\\nc6st @ 6.00 cn 80.00 4,90\\nses? @ 6.00 on 80.00 4,80\\nhet food amt rs. 89,60\\ncasy sog\\n\\nf ost tam s9536)17f\\ni xthank your.',\n",
              " 'chinese plate\\n\\nfood business center\\n\\n23232, java city, selangor\\nny, usa\\ntel : 03-435435435\\n\\ntable - 06\\ncheck # 622967, pax(s): 04\\ndate 11/01/2020 18:34\\n\\ncashier david smith\\n\\n \\n \\n  \\n\\n \\n\\n3\\n4 soda\\n\\n4 desserts\\n\\nsbioctal:  tsti<“<is*~“‘“‘<‘<=~;é‘;*«ss‘cb\\nfood tax 2.90\\nlocal tax 1.28\\ntotal : 79.66\\n\\ntake home a bag of meatballs and 2 pkgs. of\\ncream sauce for only $9.99\\nmade from an authentic recipe!',\n",
              " 'family restaurant\\n\\nviay nagar, nearby c21 mal. indore madhya\\nradeeh nd,\\n\\nmobile no: 9876543210\\ndate-may 11,2019\\nterm name qty. rate amount\\n\\npaza large 14300 430.0\\npasta 2 2200 4400\\n\\ndal makhan - full 1 180.0 180.0\\n\\ninvoice no-40\\n\\n‘adational discount 00\\ntotal qty: 40\\n‘total payable value: 1,050.00\\n\\n‘tank you, ve agit',\n",
              " 'arham restaurant llp\\nva/2,raghuvanshi 4111 compound\\n“senapati bapat marg\\n| eo. mumbai 400013\\n1\\n\\n \\n\\nspecial mocktatl\\nfy aerated drinks,\\n\\n \\n\\n \\n\\noa)\\nse\\n88\\n\\n2/2/4\\n\\ngst no: 27abcfas632p1z5 {09:33 pm)\\n£.8 0.e. plesure serving you !1!',\n",
              " 'sukhdey yaishno dhaba\\nroad, murthal, sonipat. haryana\\n\\n‘phone no (0130-2475s85, 86071\\n(gstin q6abifs3901k123\\n\\nbill no. 140 bae 01072017\\ntabtelno- 10 water code\\n\\nsre ‘oy pave\\n\\n30) $0.00\\nra(seasonal\\n\\nalu prantha $500\\ndal makent 150,\\nswebt lassi\\nkinley water\\nplainrot\\nkullad chai\\nsu total\\n\\n‘aaa $ gst(o 00086) 00 835\\nadc gtc 10079) 09810\\n‘amos nck of al tat\\n\\nsataer-mohit\\n\\n“thank yo 0 yoo i\\n\\nave 3 o27\\n\\ni\\n\\nmen\\n\\nvale\\n\\n180.00\\n\\n150,00\\n\\n8.00\\nasi\\n\\nsrs\\n\\n5716\\n749.00',\n",
              " 'vivaha bhojananbu\\nroad no.10, jubilee hills\\n\\nhyderabad\\n\\n   \\n  \\n  \\n \\n       \\n\\n7999799905\\ndate : 01/01/2017 time ; 13:55\\nbilled by : siva bill no +: 14\\norder type : dine in ~ lable ; 25\\nfuest name : guest\\nttem nae qty price\\n\\navakaya kodi pulao | 239.0\\nguntur kodi koora 1 279.0\\nbutter naan 3 177.0\\n| goleonda kodi | 379.0\\n| palavancha kodi pulao 1 299.0\\ngongura kodi koora 1 279.0\\n\\ntota] io.items: 6 ; total no.aty ; 8\\n\\nsub total ‘ wn2\\nservice charget3 : 51.36\\n\\ntanto 105.802\\n88,168\\n\\n1957.0\\n\\naes',\n",
              " '253.50\\n\\ne\\n\\ntotal']"
            ]
          },
          "metadata": {},
          "execution_count": 9
        }
      ],
      "source": [
        "restaurant_bills "
      ]
    },
    {
      "cell_type": "code",
      "execution_count": 10,
      "metadata": {
        "colab": {
          "base_uri": "https://localhost:8080/"
        },
        "id": "VviMHq0UmYAh",
        "outputId": "a1ce2591-ae0e-4970-fee3-05aa5496fbcc"
      },
      "outputs": [
        {
          "output_type": "execute_result",
          "data": {
            "text/plain": [
              "10"
            ]
          },
          "metadata": {},
          "execution_count": 10
        }
      ],
      "source": [
        "len(restaurant_bills)"
      ]
    },
    {
      "cell_type": "code",
      "execution_count": 11,
      "metadata": {
        "id": "T8Ay8TiymsA0"
      },
      "outputs": [],
      "source": [
        "non_restaurant_bills=[]"
      ]
    },
    {
      "cell_type": "markdown",
      "metadata": {
        "id": "7PT9CMcuX_Ul"
      },
      "source": [
        "We do the same for the other folder having non-restaurant bills"
      ]
    },
    {
      "cell_type": "code",
      "execution_count": 12,
      "metadata": {
        "colab": {
          "base_uri": "https://localhost:8080/"
        },
        "id": "ZBqXOTFdm9wI",
        "outputId": "ade0c0b1-bc20-4a0b-b310-f63a5fb47f74"
      },
      "outputs": [
        {
          "output_type": "execute_result",
          "data": {
            "text/plain": [
              "['n2.jpg', 'n3.jpeg', 'n1.jpeg', 'n5.jpg', 'n4.jpg']"
            ]
          },
          "metadata": {},
          "execution_count": 12
        }
      ],
      "source": [
        "a=os.listdir(\"/content/drive/MyDrive/EY/non res\")\n",
        "a"
      ]
    },
    {
      "cell_type": "code",
      "execution_count": 13,
      "metadata": {
        "id": "sJd41v7Mmy2S"
      },
      "outputs": [],
      "source": [
        "for i in a:\n",
        "  address=f\"/content/drive/MyDrive/EY/non res/{i}\"\n",
        "  non_restaurant_bills.append(get_text(address))"
      ]
    },
    {
      "cell_type": "code",
      "execution_count": 14,
      "metadata": {
        "colab": {
          "base_uri": "https://localhost:8080/"
        },
        "id": "fBDOtIpCnBuz",
        "outputId": "0d89e3c0-436b-4dc6-8eba-0eed9584453e"
      },
      "outputs": [
        {
          "output_type": "execute_result",
          "data": {
            "text/plain": [
              "[', invoice\\n\\nyour company llc address 123, state, my country p 111-222-333, f 111-222-334\\n\\nbill to:\\njohn doe\\n\\n‘alpha bravo road 33\\n\\np: 111-222-333, f: 111-222-334\\nclient@example.net\\n\\nshipping to:\\njohn doe office\\n\\noffice road 38\\n\\np: 111-333-222, f: 122-222-834\\noffice@example.net\\n\\nhttp://mrsinvoice.com\\n\\n \\n\\n \\n\\n \\n\\n \\n\\n \\n\\n \\n\\ninvoice # 00001\\ninvoice date cit.\\nname of rep. bob\\n\\ncontact phone 101-102-103\\n\\n \\n\\npayment terms\\n\\n \\n\\n \\n\\ncash on delivery\\n\\n \\n\\n \\n\\namount due: $4,170\\n\\n \\n\\n \\n\\n \\n\\n \\n\\nno products / service quantity / rate / unit amount\\nhours: price\\n\\n1 tye 2 $20 $40\\n\\n2 | steering wheel 5 $10 $50\\n\\n3 | engine oi 10 $15 $150\\n\\n4 | brake pad 24 $1000 $2,400\\n\\nsubtotal $275\\n\\ntax (10%) $27.5\\n\\ngrand total $202.5\\n\\n‘thank you for your business',\n",
              " 'test document\\n\\ntriad group plc\\n\\n3 caldecotte lake business park,\\ncaldecotte lake drive,\\ncaldecotte,\\n\\nmilton keynes,\\n\\nmkt 8lf\\n\\nphone: 01908 278450\\n\\nto:\\n\\ncatherine dale\\njuniper telecoms plc,\\nhansford house,\\ncharles avenue,\\nlichfield no9 7ts\\n\\ntre\\n\\ninvoice\\n\\ninvoice # 00237/18\\ndate: 06/09/2018\\n\\nfor:\\n\\noffice 365 implementation\\np.o. number: cd6643-01/18\\n\\n \\n\\n \\n\\n \\n\\n \\n\\n \\n\\n \\n\\n \\n\\n \\n\\ndescription hours | rate/hr | amount\\n(0365 consultancy services 225 £100.00 | £2,250.00\\nms powerapps implementation 175 £100.00 | £1,750.00\\nbusiness analysis 2 £100.00 | £3,200.00\\n0365 training 115 £50.00 £575.00\\nms powerapps training 5 £50.00 £250.00\\n\\nsubtotal [_ £8,025.00\\n\\nvat @ 20% [_ £1,605.00\\n\\ntotal | £9,630.00',\n",
              " 'd. brawn manufacture\\n\\ninvoice no. dvt-ax-345678\\n\\npayment date: 03/12/2006\\n\\n \\n\\n \\n\\n \\n\\nreference designation qty unit price totalchf sales\\nwork\\nservice d complete overhaul di 5500.00 5500.00 220\\nservice d refreshing complete case 1 380.00 380.00 220\\nand rhodium bath\\nexterior parts:\\njo.297.065.fp flat gasket 1 3.00 3.00 220\\njo.197.075.fp flat gasket 1 4.00 4.00 220\\njo.199.059.0s flat round gasket 1 6.00 6.00 220\\nvi.261.036.bc w.g.fixation screws 10 4.00 40.00 220\\nai.465.055.bc white gold \"foil\" 1 70.00 70.00 220\\npair of hand\\nlength: 10/13.50mm\\ncalibre 2868\\nspecial discount -3003.00 -3003.00\\ndiscount -900.00 -900.00\\ntotal chf 3706.05\\nreturn after repair\\nno commercial value\\npayment:\\nmr. john doe\\ngreen street 15, office 4\\n1234 vermut\\n\\nnew caledonia\\n\\ncredit card: visa\\ncard no: 112345678',\n",
              " '[hotel name]\\n\\n[address] setup my hotel\\n\\n[city, st zip]\\n\\nfax / phone:\\n\\nemail:\\n\\n4/8/2018\\n\\nguest name: 12346\\n\\naddress\\n\\nary\\n\\nmobile / email 4/4/2018 16:00\\n\\nbilling notes\\n4/4/2018 11:00\\n\\n   \\n\\n  \\n \\n\\ndescription\\nroom chages - 04/04/2018\\ngst-12%\\n\\nlaundry -05/04/2018\\nroom chages - 04/04/2018\\ngst-12%\\n\\nunit price\\n5,000.00\\n600.00\\n\\n  \\n  \\n \\n\\namount\\n5,000.00\\n600.00\\n\\n \\n\\n \\n \\n\\n   \\n\\n \\n\\n \\n\\n \\n\\n \\n\\n \\n\\n \\n\\n \\n\\n \\n\\n \\n\\n \\n\\n \\n\\n \\n\\n \\n\\n \\n\\n \\n\\n \\n\\n \\n\\nthank you for your business! subtotal 6,470.00\\ntotal\\n\\nregardless of the billing instruction | agree to be held personally liable for payment of the total amount of this bill.\\n\\ncashier signature guest signature\\n\\nthanks for choosing - [your hotel name]\\npage 1-1\\nsetupmyhotel.com',\n",
              " 'sss,agency invoice\\n\\ncambridge,\\ncb2 8x\\n\\nmain director tele: 07981423683\\nwebsite: www.scsaaency18.bloaspol.co.uk\\n\\n \\n\\nname: _shelby lucier (scs agency main director) date:_13/02/15\\naddress: _6 glebe road\\n\\ncity: cambridge _ state: cambridgeshire zip code: _cb1 78z\\nphone: _ 07981423683 _alt. phone: _01223 507400\\n\\n \\n\\n \\n\\ndescription price (£ xtime)| total(£)\\nimage capture & record of meetings 758 7.58\\nimage ediling 15.16 22.74\\ninitial sticker planning 758 30.32,\\nnoles being taken 013 30.45\\ninitial postcard planning | 22.74 s39\\nnote ediling & finalising 379 56.98\\ncontacting client 15.16 72.14\\nfinalising ideas (stickers & postcard - front and back) 22.74 94.88\\nprinting stickers - 6.5cm width x 600 copies 54.00 +377 152.67\"\\nprinting postcards -as x 40 copies 1800-2 | 1,956.46\\nbus time travel - 30 minutes one way (30 min x 4 travels) 16.80 4,973.26\\n\\ntravel io bus stop from college 0.06 1.97332\\ntravel from bus stop to burwash manner 0.08 1,973.38\\n\\n‘meeting running time x2 764 1,981.02\\n(grand total £1,981,02\\n\\n \\n\\n \\n\\n \\n\\n \\n\\n \\n\\n \\n\\n \\n\\n \\n\\n \\n\\n \\n\\n \\n\\n \\n\\n \\n\\n \\n\\n \\n\\n \\n\\n \\n\\n \\n\\n \\n\\n \\n\\n \\n\\nimportant notes:\\n\\nthe guidlines of this invoice are sicily professional. the minimum wage_ sub total: _1.981.02\\n\\ntor under 18\\'s inthe uniled kingdom is £3.79 per hour. tax: 20%vat=396.20\\n\\ntotal due: _ £1.584.82\\n\\nfuthorized signatures\\n\\nthank you for your business!']"
            ]
          },
          "metadata": {},
          "execution_count": 14
        }
      ],
      "source": [
        "non_restaurant_bills"
      ]
    },
    {
      "cell_type": "markdown",
      "metadata": {
        "id": "Ku3G1p5nIiPM"
      },
      "source": [
        "We have successfully extracted the text from the images through pytesseract."
      ]
    },
    {
      "cell_type": "markdown",
      "metadata": {
        "id": "RjL9RByeIyRv"
      },
      "source": [
        "Now we will use this text to do natural language processing and understand their contents"
      ]
    },
    {
      "cell_type": "code",
      "execution_count": 15,
      "metadata": {
        "id": "AFNYoF9ooRFC"
      },
      "outputs": [],
      "source": [
        "import pandas as pd "
      ]
    },
    {
      "cell_type": "code",
      "execution_count": 16,
      "metadata": {
        "id": "bENiHWGGnR8_"
      },
      "outputs": [],
      "source": [
        "res=pd.DataFrame(restaurant_bills)\n",
        "res\n",
        "res[\"label\"]=\"Res\""
      ]
    },
    {
      "cell_type": "code",
      "execution_count": 17,
      "metadata": {
        "id": "qiAHQ95UoZgG"
      },
      "outputs": [],
      "source": [
        "nonres=pd.DataFrame(non_restaurant_bills)\n",
        "nonres\n",
        "nonres[\"label\"]=\"NonRes\""
      ]
    },
    {
      "cell_type": "code",
      "execution_count": 18,
      "metadata": {
        "colab": {
          "base_uri": "https://localhost:8080/",
          "height": 520
        },
        "id": "tSsDAjTpogi7",
        "outputId": "ab9792aa-d1f0-4dbc-a498-a3646e268f70"
      },
      "outputs": [
        {
          "output_type": "execute_result",
          "data": {
            "text/plain": [
              "                                                   0   label\n",
              "0  1 no waiter\\n\\nab6i5 waiter 5 06/06\\niten pric...     Res\n",
              "1  mocambo restaurant\\n258, park street\\nkolkata-...     Res\n",
              "2  anandha bhavan a/c\\n13 /a ecr wain road. pilla...     Res\n",
              "3  biil\\n\\ndeso1/07/17  o1244ph m/cz04 no:459\\n45...     Res\n",
              "4  chinese plate\\n\\nfood business center\\n\\n23232...     Res\n",
              "5  family restaurant\\n\\nviay nagar, nearby c21 ma...     Res\n",
              "6  arham restaurant llp\\nva/2,raghuvanshi 4111 co...     Res\n",
              "7  sukhdey yaishno dhaba\\nroad, murthal, sonipat....     Res\n",
              "8  vivaha bhojananbu\\nroad no.10, jubilee hills\\n...     Res\n",
              "9                               253.50\\n\\ne\\n\\ntotal     Res\n",
              "0  , invoice\\n\\nyour company llc address 123, sta...  NonRes\n",
              "1  test document\\n\\ntriad group plc\\n\\n3 caldecot...  NonRes\n",
              "2  d. brawn manufacture\\n\\ninvoice no. dvt-ax-345...  NonRes\n",
              "3  [hotel name]\\n\\n[address] setup my hotel\\n\\n[c...  NonRes\n",
              "4  sss,agency invoice\\n\\ncambridge,\\ncb2 8x\\n\\nma...  NonRes"
            ],
            "text/html": [
              "\n",
              "  <div id=\"df-773e0056-6027-4ec3-b06a-74592dc3fb54\">\n",
              "    <div class=\"colab-df-container\">\n",
              "      <div>\n",
              "<style scoped>\n",
              "    .dataframe tbody tr th:only-of-type {\n",
              "        vertical-align: middle;\n",
              "    }\n",
              "\n",
              "    .dataframe tbody tr th {\n",
              "        vertical-align: top;\n",
              "    }\n",
              "\n",
              "    .dataframe thead th {\n",
              "        text-align: right;\n",
              "    }\n",
              "</style>\n",
              "<table border=\"1\" class=\"dataframe\">\n",
              "  <thead>\n",
              "    <tr style=\"text-align: right;\">\n",
              "      <th></th>\n",
              "      <th>0</th>\n",
              "      <th>label</th>\n",
              "    </tr>\n",
              "  </thead>\n",
              "  <tbody>\n",
              "    <tr>\n",
              "      <th>0</th>\n",
              "      <td>1 no waiter\\n\\nab6i5 waiter 5 06/06\\niten pric...</td>\n",
              "      <td>Res</td>\n",
              "    </tr>\n",
              "    <tr>\n",
              "      <th>1</th>\n",
              "      <td>mocambo restaurant\\n258, park street\\nkolkata-...</td>\n",
              "      <td>Res</td>\n",
              "    </tr>\n",
              "    <tr>\n",
              "      <th>2</th>\n",
              "      <td>anandha bhavan a/c\\n13 /a ecr wain road. pilla...</td>\n",
              "      <td>Res</td>\n",
              "    </tr>\n",
              "    <tr>\n",
              "      <th>3</th>\n",
              "      <td>biil\\n\\ndeso1/07/17  o1244ph m/cz04 no:459\\n45...</td>\n",
              "      <td>Res</td>\n",
              "    </tr>\n",
              "    <tr>\n",
              "      <th>4</th>\n",
              "      <td>chinese plate\\n\\nfood business center\\n\\n23232...</td>\n",
              "      <td>Res</td>\n",
              "    </tr>\n",
              "    <tr>\n",
              "      <th>5</th>\n",
              "      <td>family restaurant\\n\\nviay nagar, nearby c21 ma...</td>\n",
              "      <td>Res</td>\n",
              "    </tr>\n",
              "    <tr>\n",
              "      <th>6</th>\n",
              "      <td>arham restaurant llp\\nva/2,raghuvanshi 4111 co...</td>\n",
              "      <td>Res</td>\n",
              "    </tr>\n",
              "    <tr>\n",
              "      <th>7</th>\n",
              "      <td>sukhdey yaishno dhaba\\nroad, murthal, sonipat....</td>\n",
              "      <td>Res</td>\n",
              "    </tr>\n",
              "    <tr>\n",
              "      <th>8</th>\n",
              "      <td>vivaha bhojananbu\\nroad no.10, jubilee hills\\n...</td>\n",
              "      <td>Res</td>\n",
              "    </tr>\n",
              "    <tr>\n",
              "      <th>9</th>\n",
              "      <td>253.50\\n\\ne\\n\\ntotal</td>\n",
              "      <td>Res</td>\n",
              "    </tr>\n",
              "    <tr>\n",
              "      <th>0</th>\n",
              "      <td>, invoice\\n\\nyour company llc address 123, sta...</td>\n",
              "      <td>NonRes</td>\n",
              "    </tr>\n",
              "    <tr>\n",
              "      <th>1</th>\n",
              "      <td>test document\\n\\ntriad group plc\\n\\n3 caldecot...</td>\n",
              "      <td>NonRes</td>\n",
              "    </tr>\n",
              "    <tr>\n",
              "      <th>2</th>\n",
              "      <td>d. brawn manufacture\\n\\ninvoice no. dvt-ax-345...</td>\n",
              "      <td>NonRes</td>\n",
              "    </tr>\n",
              "    <tr>\n",
              "      <th>3</th>\n",
              "      <td>[hotel name]\\n\\n[address] setup my hotel\\n\\n[c...</td>\n",
              "      <td>NonRes</td>\n",
              "    </tr>\n",
              "    <tr>\n",
              "      <th>4</th>\n",
              "      <td>sss,agency invoice\\n\\ncambridge,\\ncb2 8x\\n\\nma...</td>\n",
              "      <td>NonRes</td>\n",
              "    </tr>\n",
              "  </tbody>\n",
              "</table>\n",
              "</div>\n",
              "      <button class=\"colab-df-convert\" onclick=\"convertToInteractive('df-773e0056-6027-4ec3-b06a-74592dc3fb54')\"\n",
              "              title=\"Convert this dataframe to an interactive table.\"\n",
              "              style=\"display:none;\">\n",
              "        \n",
              "  <svg xmlns=\"http://www.w3.org/2000/svg\" height=\"24px\"viewBox=\"0 0 24 24\"\n",
              "       width=\"24px\">\n",
              "    <path d=\"M0 0h24v24H0V0z\" fill=\"none\"/>\n",
              "    <path d=\"M18.56 5.44l.94 2.06.94-2.06 2.06-.94-2.06-.94-.94-2.06-.94 2.06-2.06.94zm-11 1L8.5 8.5l.94-2.06 2.06-.94-2.06-.94L8.5 2.5l-.94 2.06-2.06.94zm10 10l.94 2.06.94-2.06 2.06-.94-2.06-.94-.94-2.06-.94 2.06-2.06.94z\"/><path d=\"M17.41 7.96l-1.37-1.37c-.4-.4-.92-.59-1.43-.59-.52 0-1.04.2-1.43.59L10.3 9.45l-7.72 7.72c-.78.78-.78 2.05 0 2.83L4 21.41c.39.39.9.59 1.41.59.51 0 1.02-.2 1.41-.59l7.78-7.78 2.81-2.81c.8-.78.8-2.07 0-2.86zM5.41 20L4 18.59l7.72-7.72 1.47 1.35L5.41 20z\"/>\n",
              "  </svg>\n",
              "      </button>\n",
              "      \n",
              "  <style>\n",
              "    .colab-df-container {\n",
              "      display:flex;\n",
              "      flex-wrap:wrap;\n",
              "      gap: 12px;\n",
              "    }\n",
              "\n",
              "    .colab-df-convert {\n",
              "      background-color: #E8F0FE;\n",
              "      border: none;\n",
              "      border-radius: 50%;\n",
              "      cursor: pointer;\n",
              "      display: none;\n",
              "      fill: #1967D2;\n",
              "      height: 32px;\n",
              "      padding: 0 0 0 0;\n",
              "      width: 32px;\n",
              "    }\n",
              "\n",
              "    .colab-df-convert:hover {\n",
              "      background-color: #E2EBFA;\n",
              "      box-shadow: 0px 1px 2px rgba(60, 64, 67, 0.3), 0px 1px 3px 1px rgba(60, 64, 67, 0.15);\n",
              "      fill: #174EA6;\n",
              "    }\n",
              "\n",
              "    [theme=dark] .colab-df-convert {\n",
              "      background-color: #3B4455;\n",
              "      fill: #D2E3FC;\n",
              "    }\n",
              "\n",
              "    [theme=dark] .colab-df-convert:hover {\n",
              "      background-color: #434B5C;\n",
              "      box-shadow: 0px 1px 3px 1px rgba(0, 0, 0, 0.15);\n",
              "      filter: drop-shadow(0px 1px 2px rgba(0, 0, 0, 0.3));\n",
              "      fill: #FFFFFF;\n",
              "    }\n",
              "  </style>\n",
              "\n",
              "      <script>\n",
              "        const buttonEl =\n",
              "          document.querySelector('#df-773e0056-6027-4ec3-b06a-74592dc3fb54 button.colab-df-convert');\n",
              "        buttonEl.style.display =\n",
              "          google.colab.kernel.accessAllowed ? 'block' : 'none';\n",
              "\n",
              "        async function convertToInteractive(key) {\n",
              "          const element = document.querySelector('#df-773e0056-6027-4ec3-b06a-74592dc3fb54');\n",
              "          const dataTable =\n",
              "            await google.colab.kernel.invokeFunction('convertToInteractive',\n",
              "                                                     [key], {});\n",
              "          if (!dataTable) return;\n",
              "\n",
              "          const docLinkHtml = 'Like what you see? Visit the ' +\n",
              "            '<a target=\"_blank\" href=https://colab.research.google.com/notebooks/data_table.ipynb>data table notebook</a>'\n",
              "            + ' to learn more about interactive tables.';\n",
              "          element.innerHTML = '';\n",
              "          dataTable['output_type'] = 'display_data';\n",
              "          await google.colab.output.renderOutput(dataTable, element);\n",
              "          const docLink = document.createElement('div');\n",
              "          docLink.innerHTML = docLinkHtml;\n",
              "          element.appendChild(docLink);\n",
              "        }\n",
              "      </script>\n",
              "    </div>\n",
              "  </div>\n",
              "  "
            ]
          },
          "metadata": {},
          "execution_count": 18
        }
      ],
      "source": [
        "df=pd.concat([res,nonres])\n",
        "df"
      ]
    },
    {
      "cell_type": "code",
      "execution_count": 19,
      "metadata": {
        "id": "-v9rHXGdpALv"
      },
      "outputs": [],
      "source": [
        "df.columns=['bill','label']"
      ]
    },
    {
      "cell_type": "code",
      "execution_count": 20,
      "metadata": {
        "id": "E8LAGeIApKMG"
      },
      "outputs": [],
      "source": [
        "import pandas as pd\n",
        "import numpy as np\n",
        "import seaborn as sns\n",
        "import matplotlib.pyplot as plt\n",
        "import matplotlib\n",
        "matplotlib.rcParams[\"figure.figsize\"]=(20,10)\n",
        "from sklearn.decomposition import TruncatedSVD \n",
        "from sklearn.feature_extraction.text import TfidfVectorizer \n",
        "from sklearn.linear_model import LogisticRegression \n",
        "from sklearn.ensemble import GradientBoostingClassifier\n",
        "from sklearn.model_selection import train_test_split,cross_val_score\n",
        "from sklearn.metrics import cohen_kappa_score,accuracy_score\n",
        "import nltk\n",
        "from nltk.corpus import stopwords\n",
        "from sklearn.feature_extraction.text import TfidfVectorizer\n",
        "from sklearn.decomposition import TruncatedSVD\n",
        "from wordcloud import WordCloud,STOPWORDS\n",
        "from sklearn.feature_extraction.text import CountVectorizer\n",
        "from collections import Counter \n",
        "from sklearn.linear_model import LogisticRegression\n",
        "from sklearn.tree import DecisionTreeClassifier  \n",
        "from sklearn.svm import SVC "
      ]
    },
    {
      "cell_type": "markdown",
      "metadata": {
        "id": "blpTPLrFYIUH"
      },
      "source": [
        "We formulate the problem as a classification problem"
      ]
    },
    {
      "cell_type": "code",
      "execution_count": 21,
      "metadata": {
        "id": "Fw4Y4EmKowYz"
      },
      "outputs": [],
      "source": [
        "def model_TFIDF(df):\n",
        "  X=df.bill\n",
        "  y=df.label\n",
        "  x_train,x_val,y_train,y_val=train_test_split(X,y,test_size=0.3,random_state=123456)\n",
        "  vectorizer=TfidfVectorizer(stop_words=STOPWORDS,use_idf=True,ngram_range=(1,1))\n",
        "  vectorizer.fit(x_train)\n",
        "  x_train=vectorizer.transform(x_train)\n",
        "  x_val=vectorizer.transform(x_val)\n",
        "  print(x_train)\n",
        "  print(x_train.shape)\n",
        "  print(x_val.shape) \n",
        "  \n",
        "  def model(model):\n",
        "    model.fit(X=x_train,y=y_train)\n",
        "    pred_val=model.predict(x_val)\n",
        "    acc=accuracy_score(pred_val,y_val)\n",
        "    cohen=cohen_kappa_score(pred_val,y_val)\n",
        "    return (acc,cohen) \n",
        "  lr=LogisticRegression()\n",
        "  x=model(lr)\n",
        "  print(f\"Accuracy for Logistic Regression is {x[0]}\")\n",
        "  print(f\"Cohen Kappa Score for Logistic Regression is {x[1]}\")\n",
        "  tree=DecisionTreeClassifier()\n",
        "  x=model(tree)\n",
        "  print(f\"Accuracy for Decision Tree is {x[0]}\")\n",
        "  print(f\"Cohen Kappa Score for Decision Tree is {x[1]}\")\n",
        "  sv=SVC()\n",
        "  x=model(sv) \n",
        "  print(f\"Accuracy for Suppoert Vector Machine is {x[0]}\")\n",
        "  print(f\"Cohen Kappa Score for Suppoert Vector Machine is {x[1]}\")"
      ]
    },
    {
      "cell_type": "code",
      "execution_count": 22,
      "metadata": {
        "colab": {
          "base_uri": "https://localhost:8080/"
        },
        "id": "FxsOUQS3pXIw",
        "outputId": "32c452da-ecb8-4234-eadf-01d8eceb87dd"
      },
      "outputs": [
        {
          "output_type": "stream",
          "name": "stdout",
          "text": [
            "  (0, 533)\t0.05946668120890018\n",
            "  (0, 528)\t0.05946668120890018\n",
            "  (0, 518)\t0.05946668120890018\n",
            "  (0, 517)\t0.05946668120890018\n",
            "  (0, 516)\t0.05946668120890018\n",
            "  (0, 514)\t0.05946668120890018\n",
            "  (0, 510)\t0.05055211190228284\n",
            "  (0, 499)\t0.05946668120890018\n",
            "  (0, 498)\t0.02408152591888224\n",
            "  (0, 474)\t0.05055211190228284\n",
            "  (0, 463)\t0.05946668120890018\n",
            "  (0, 453)\t0.0706251100301708\n",
            "  (0, 446)\t0.05946668120890018\n",
            "  (0, 441)\t0.05946668120890018\n",
            "  (0, 435)\t0.05055211190228284\n",
            "  (0, 433)\t0.05946668120890018\n",
            "  (0, 432)\t0.05946668120890018\n",
            "  (0, 430)\t0.05946668120890018\n",
            "  (0, 428)\t0.05946668120890018\n",
            "  (0, 427)\t0.05946668120890018\n",
            "  (0, 421)\t0.04422712432170274\n",
            "  (0, 414)\t0.0353125550150854\n",
            "  (0, 400)\t0.10110422380456568\n",
            "  (0, 397)\t0.05946668120890018\n",
            "  (0, 394)\t0.05946668120890018\n",
            "  :\t:\n",
            "  (9, 141)\t0.07884672661584392\n",
            "  (9, 139)\t0.07884672661584392\n",
            "  (9, 122)\t0.18550177152214922\n",
            "  (9, 110)\t0.18550177152214922\n",
            "  (9, 106)\t0.07884672661584392\n",
            "  (9, 105)\t0.09275088576107461\n",
            "  (9, 89)\t0.18550177152214922\n",
            "  (9, 80)\t0.09275088576107461\n",
            "  (9, 76)\t0.07884672661584392\n",
            "  (9, 73)\t0.09275088576107461\n",
            "  (9, 72)\t0.09275088576107461\n",
            "  (9, 68)\t0.09275088576107461\n",
            "  (9, 63)\t0.09275088576107461\n",
            "  (9, 59)\t0.09275088576107461\n",
            "  (9, 56)\t0.09275088576107461\n",
            "  (9, 55)\t0.09275088576107461\n",
            "  (9, 50)\t0.09275088576107461\n",
            "  (9, 43)\t0.09275088576107461\n",
            "  (9, 41)\t0.12265911549819623\n",
            "  (9, 40)\t0.09275088576107461\n",
            "  (9, 38)\t0.09275088576107461\n",
            "  (9, 24)\t0.049791293586833804\n",
            "  (9, 15)\t0.06132955774909812\n",
            "  (9, 9)\t0.06898156870555518\n",
            "  (9, 0)\t0.5974955230420057\n",
            "(10, 541)\n",
            "(5, 541)\n",
            "Accuracy for Logistic Regression is 0.6\n",
            "Cohen Kappa Score for Logistic Regression is 0.0\n",
            "Accuracy for Decision Tree is 0.2\n",
            "Cohen Kappa Score for Decision Tree is -0.6666666666666667\n",
            "Accuracy for Suppoert Vector Machine is 0.6\n",
            "Cohen Kappa Score for Suppoert Vector Machine is 0.0\n"
          ]
        },
        {
          "output_type": "stream",
          "name": "stderr",
          "text": [
            "/usr/local/lib/python3.7/dist-packages/sklearn/feature_extraction/text.py:401: UserWarning: Your stop_words may be inconsistent with your preprocessing. Tokenizing the stop words generated tokens ['aren', 'couldn', 'didn', 'doesn', 'don', 'hadn', 'hasn', 'haven', 'isn', 'let', 'll', 'mustn', 're', 'shan', 'shouldn', 've', 'wasn', 'weren', 'won', 'wouldn'] not in stop_words.\n",
            "  % sorted(inconsistent)\n"
          ]
        }
      ],
      "source": [
        "model_TFIDF(df)"
      ]
    },
    {
      "cell_type": "code",
      "execution_count": 23,
      "metadata": {
        "id": "82wNqyLZpfXw"
      },
      "outputs": [],
      "source": [
        "def model_SVD(df):\n",
        "  X=df.bill\n",
        "  y=df.label\n",
        "  x_train,x_val,y_train,y_val=train_test_split(X,y,test_size=0.3,random_state=123456)\n",
        "  vectorizer=TfidfVectorizer(stop_words=STOPWORDS,use_idf=True,ngram_range=(1,1))\n",
        "  vectorizer.fit(x_train)\n",
        "  x_train=vectorizer.transform(x_train)\n",
        "  x_val=vectorizer.transform(x_val)\n",
        "  SV=TruncatedSVD(n_components=10)\n",
        "  SV.fit(x_train)\n",
        "  x_train=SV.fit_transform(x_train)\n",
        "  print(x_train)\n",
        "  print(x_train.shape)\n",
        "  x_val=SV.transform(x_val)\n",
        "  def model(model):\n",
        "    model.fit(X=x_train,y=y_train)\n",
        "    pred_val=model.predict(x_val)\n",
        "    acc=accuracy_score(pred_val,y_val)\n",
        "    cohen=cohen_kappa_score(pred_val,y_val)\n",
        "    return (acc,cohen) \n",
        "  lr=LogisticRegression()\n",
        "  x=model(lr)\n",
        "  print(f\"Accuracy for Logistic Regression is {x[0]}\")\n",
        "  print(f\"Cohen Kappa Score for Logistic Regression is {x[1]}\")\n",
        "  tree=DecisionTreeClassifier()\n",
        "  x=model(tree)\n",
        "  print(f\"Accuracy for Decision Tree is {x[0]}\")\n",
        "  print(f\"Cohen Kappa Score for Decision Tree is {x[1]}\")\n",
        "  sv=SVC()\n",
        "  x=model(sv) \n",
        "  print(f\"Accuracy for Suppoert Vector Machine is {x[0]}\")\n",
        "  print(f\"Cohen Kappa Score for Suppoert Vector Machine is {x[1]}\")"
      ]
    },
    {
      "cell_type": "code",
      "execution_count": 24,
      "metadata": {
        "colab": {
          "base_uri": "https://localhost:8080/"
        },
        "id": "-Q7Sf88Vp048",
        "outputId": "952f4b3e-35fe-4c4e-d6f8-3cd8a78a18b0"
      },
      "outputs": [
        {
          "output_type": "stream",
          "name": "stdout",
          "text": [
            "[[ 6.93885154e-01 -1.81311162e-01  1.57955322e-02 -2.53269180e-02\n",
            "   1.01566232e-02  4.91454640e-02 -6.33166934e-02 -1.16691676e-01\n",
            "  -5.23025972e-01 -4.37101993e-01]\n",
            " [ 7.06506305e-02  3.36158331e-01  5.54136965e-01 -6.97132059e-03\n",
            "   7.01327057e-01 -8.57991711e-02  2.72402477e-01 -7.42679907e-04\n",
            "  -3.62199749e-02 -1.23694895e-02]\n",
            " [ 1.01152499e-01  3.54194889e-01 -2.29518005e-01  8.62292593e-01\n",
            "   1.04129041e-01  1.08373124e-01 -1.49627895e-01  1.38532189e-01\n",
            "  -1.55943682e-03 -6.25893363e-02]\n",
            " [ 5.34300515e-01 -9.92249482e-02  5.51075882e-02 -8.91235328e-02\n",
            "  -8.84755964e-02 -6.82713600e-02  1.47652368e-01  7.95363719e-01\n",
            "   1.60641790e-01 -3.15936310e-02]\n",
            " [ 6.41143065e-01 -1.41205051e-01  1.03217250e-02  4.26296993e-02\n",
            "   6.94076128e-02 -1.37403134e-02 -4.09453054e-02 -3.47012602e-01\n",
            "   6.34071267e-01 -1.94746057e-01]\n",
            " [ 1.27039258e-01  4.96527967e-01 -3.93018228e-01 -3.87904018e-01\n",
            "   2.52114858e-01 -3.16374781e-01 -5.11431675e-01  7.50013719e-02\n",
            "   1.39008069e-02 -3.67756701e-02]\n",
            " [ 1.79973165e-01  4.89196234e-01  1.99704881e-01  8.00792645e-02\n",
            "  -5.40578384e-01 -5.43816338e-01  2.66200893e-01 -1.45917968e-01\n",
            "  -3.66712151e-02 -2.32600619e-02]\n",
            " [ 2.38327340e-01  3.62925588e-01 -5.29959775e-01 -2.02850075e-01\n",
            "   3.98131648e-02  3.77591103e-01  5.79056261e-01 -8.76976791e-02\n",
            "  -1.78104521e-02  4.47794995e-02]\n",
            " [ 1.76525690e-01  4.46911771e-01  4.35607015e-01 -1.59208622e-01\n",
            "  -3.04467693e-01  5.96769606e-01 -3.19620625e-01  1.38290620e-02\n",
            "   3.67890390e-02  3.83553536e-02]\n",
            " [ 7.36416031e-01 -1.44927631e-01  5.96798928e-04  8.47978738e-02\n",
            "   6.13262423e-02 -6.92351984e-02 -1.05015909e-01 -1.36166966e-01\n",
            "  -1.68573640e-01  6.02457549e-01]]\n",
            "(10, 10)\n",
            "Accuracy for Logistic Regression is 0.6\n",
            "Cohen Kappa Score for Logistic Regression is 0.0\n",
            "Accuracy for Decision Tree is 0.2\n",
            "Cohen Kappa Score for Decision Tree is -0.4285714285714286\n",
            "Accuracy for Suppoert Vector Machine is 0.6\n",
            "Cohen Kappa Score for Suppoert Vector Machine is 0.0\n"
          ]
        },
        {
          "output_type": "stream",
          "name": "stderr",
          "text": [
            "/usr/local/lib/python3.7/dist-packages/sklearn/feature_extraction/text.py:401: UserWarning: Your stop_words may be inconsistent with your preprocessing. Tokenizing the stop words generated tokens ['aren', 'couldn', 'didn', 'doesn', 'don', 'hadn', 'hasn', 'haven', 'isn', 'let', 'll', 'mustn', 're', 'shan', 'shouldn', 've', 'wasn', 'weren', 'won', 'wouldn'] not in stop_words.\n",
            "  % sorted(inconsistent)\n"
          ]
        }
      ],
      "source": [
        "model_SVD(df)"
      ]
    },
    {
      "cell_type": "markdown",
      "metadata": {
        "id": "SEXMHntdYN63"
      },
      "source": [
        "We use TF IDF and then apply truncated SVD as we need to transform the text to apply ML models on the data"
      ]
    },
    {
      "cell_type": "code",
      "execution_count": 25,
      "metadata": {
        "colab": {
          "base_uri": "https://localhost:8080/"
        },
        "id": "u9d-CnMMp36k",
        "outputId": "a0c55af8-d2a8-4684-995c-cc07cbf9a9a1"
      },
      "outputs": [
        {
          "output_type": "stream",
          "name": "stderr",
          "text": [
            "/usr/local/lib/python3.7/dist-packages/sklearn/feature_extraction/text.py:401: UserWarning: Your stop_words may be inconsistent with your preprocessing. Tokenizing the stop words generated tokens ['aren', 'couldn', 'didn', 'doesn', 'don', 'hadn', 'hasn', 'haven', 'isn', 'let', 'll', 'mustn', 're', 'shan', 'shouldn', 've', 'wasn', 'weren', 'won', 'wouldn'] not in stop_words.\n",
            "  % sorted(inconsistent)\n"
          ]
        }
      ],
      "source": [
        "X=df.bill\n",
        "y=df.label\n",
        "vectorizer=TfidfVectorizer(stop_words=STOPWORDS,use_idf=True,ngram_range=(1,1))\n",
        "vectorizer.fit(X)\n",
        "x=vectorizer.transform(X)\n",
        "SV=TruncatedSVD(n_components=10)\n",
        "SV.fit(x)\n",
        "x=SV.transform(x)\n",
        "def model(model):\n",
        "    model.fit(X=x,y=y)\n",
        "    return model\n"
      ]
    },
    {
      "cell_type": "markdown",
      "source": [
        "#Logistic Regression"
      ],
      "metadata": {
        "id": "Exz-2Ra1xx3K"
      }
    },
    {
      "cell_type": "code",
      "source": [
        "lr=LogisticRegression()\n",
        "m=model(lr)"
      ],
      "metadata": {
        "id": "79vv2UUbxaul"
      },
      "execution_count": 26,
      "outputs": []
    },
    {
      "cell_type": "markdown",
      "metadata": {
        "id": "FP5utSpCYUj8"
      },
      "source": [
        "We pass the fitted model and the image address for testing"
      ]
    },
    {
      "cell_type": "code",
      "execution_count": 27,
      "metadata": {
        "id": "QXHHwdTd_NEW"
      },
      "outputs": [],
      "source": [
        "def test(address,model):\n",
        "  text=get_text(address)\n",
        "  a=[]\n",
        "  a.append(text)\n",
        "  t=pd.DataFrame(a)\n",
        "  t=t.iloc[:,0]\n",
        "  print(t)\n",
        "  t=vectorizer.transform(t)\n",
        "  t=SV.transform(t)\n",
        "  print(f\"The prediction is {model.predict(t)[0]}\")"
      ]
    },
    {
      "cell_type": "code",
      "execution_count": 28,
      "metadata": {
        "colab": {
          "base_uri": "https://localhost:8080/"
        },
        "id": "2kDHg6E6tPpu",
        "outputId": "aa7e8103-b557-4916-817b-4604c98e8e65"
      },
      "outputs": [
        {
          "output_type": "stream",
          "name": "stdout",
          "text": [
            "0    ' invoice\\n\\nyour company llc address 123, sta...\n",
            "Name: 0, dtype: object\n",
            "The prediction is Res\n"
          ]
        }
      ],
      "source": [
        "test('/content/drive/MyDrive/EY/1.jpg',m)"
      ]
    },
    {
      "cell_type": "code",
      "execution_count": 29,
      "metadata": {
        "colab": {
          "base_uri": "https://localhost:8080/"
        },
        "id": "3iTdI6jtQcnh",
        "outputId": "d69f5295-460d-4fe6-c6c9-ea5ed83ccf69"
      },
      "outputs": [
        {
          "output_type": "stream",
          "name": "stdout",
          "text": [
            "0    ying thai kitchen\\n2220 queen anne ave n\\nseat...\n",
            "Name: 0, dtype: object\n",
            "The prediction is Res\n"
          ]
        }
      ],
      "source": [
        "test('/content/drive/MyDrive/EY/bill3.jpg',m)"
      ]
    },
    {
      "cell_type": "code",
      "execution_count": 30,
      "metadata": {
        "colab": {
          "base_uri": "https://localhost:8080/"
        },
        "id": "C0SEa2BJQcfZ",
        "outputId": "f266f32b-069e-4955-d1f0-c2b4b4c4d983"
      },
      "outputs": [
        {
          "output_type": "stream",
          "name": "stdout",
          "text": [
            "0    “a\\n\\ndll\\n\\nwe understand your world\\nhari sa...\n",
            "Name: 0, dtype: object\n",
            "The prediction is Res\n"
          ]
        }
      ],
      "source": [
        "test('/content/drive/MyDrive/EY/petrolbill.jpg',m)"
      ]
    },
    {
      "cell_type": "markdown",
      "metadata": {
        "id": "d3trFSxIR_iY"
      },
      "source": [
        "#Decision Tree"
      ]
    },
    {
      "cell_type": "code",
      "execution_count": 31,
      "metadata": {
        "colab": {
          "base_uri": "https://localhost:8080/"
        },
        "id": "jaRXZFz1QxV7",
        "outputId": "58e996e2-d0ce-40f7-8da2-57a82d6dfbef"
      },
      "outputs": [
        {
          "output_type": "stream",
          "name": "stdout",
          "text": [
            "0    ' invoice\\n\\nyour company llc address 123, sta...\n",
            "Name: 0, dtype: object\n",
            "The prediction is NonRes\n"
          ]
        }
      ],
      "source": [
        "tree=DecisionTreeClassifier()\n",
        "m=model(tree)\n",
        "test('/content/drive/MyDrive/EY/1.jpg',m)"
      ]
    },
    {
      "cell_type": "code",
      "execution_count": 32,
      "metadata": {
        "colab": {
          "base_uri": "https://localhost:8080/"
        },
        "id": "A2kk6R8yQxPC",
        "outputId": "78f0af5f-e3ce-4c9a-bef0-452554be14da"
      },
      "outputs": [
        {
          "output_type": "stream",
          "name": "stdout",
          "text": [
            "0    ying thai kitchen\\n2220 queen anne ave n\\nseat...\n",
            "Name: 0, dtype: object\n",
            "The prediction is Res\n"
          ]
        }
      ],
      "source": [
        "test('/content/drive/MyDrive/EY/bill3.jpg',m)"
      ]
    },
    {
      "cell_type": "code",
      "execution_count": 33,
      "metadata": {
        "colab": {
          "base_uri": "https://localhost:8080/"
        },
        "id": "gxFcBe7TRfEX",
        "outputId": "60ac82f3-8520-4cb9-ee67-a67db466b72a"
      },
      "outputs": [
        {
          "output_type": "stream",
          "name": "stdout",
          "text": [
            "0    “a\\n\\ndll\\n\\nwe understand your world\\nhari sa...\n",
            "Name: 0, dtype: object\n",
            "The prediction is Res\n"
          ]
        }
      ],
      "source": [
        "test('/content/drive/MyDrive/EY/petrolbill.jpg',m)"
      ]
    },
    {
      "cell_type": "markdown",
      "metadata": {
        "id": "eeTQYGLSSEHj"
      },
      "source": [
        "#Support Vector Machine"
      ]
    },
    {
      "cell_type": "code",
      "execution_count": 34,
      "metadata": {
        "colab": {
          "base_uri": "https://localhost:8080/"
        },
        "id": "XGJ9ry8cRinW",
        "outputId": "155dc02f-07e9-48c5-e918-fa288980c8ae"
      },
      "outputs": [
        {
          "output_type": "stream",
          "name": "stdout",
          "text": [
            "0    ' invoice\\n\\nyour company llc address 123, sta...\n",
            "Name: 0, dtype: object\n",
            "The prediction is NonRes\n"
          ]
        }
      ],
      "source": [
        "sv=SVC()\n",
        "m=model(sv)\n",
        "test('/content/drive/MyDrive/EY/1.jpg',m)"
      ]
    },
    {
      "cell_type": "code",
      "execution_count": 35,
      "metadata": {
        "colab": {
          "base_uri": "https://localhost:8080/"
        },
        "id": "5bv7S2pHW0Ob",
        "outputId": "e58fd8fe-cf30-4ea7-92c1-4b7e16f48cfb"
      },
      "outputs": [
        {
          "output_type": "stream",
          "name": "stdout",
          "text": [
            "0    ying thai kitchen\\n2220 queen anne ave n\\nseat...\n",
            "Name: 0, dtype: object\n",
            "The prediction is Res\n"
          ]
        }
      ],
      "source": [
        "test('/content/drive/MyDrive/EY/bill3.jpg',m)"
      ]
    },
    {
      "cell_type": "code",
      "execution_count": 36,
      "metadata": {
        "colab": {
          "base_uri": "https://localhost:8080/"
        },
        "id": "dAuopkxSW3fN",
        "outputId": "1430a6c7-fff4-4673-eee9-c473d265e6e2"
      },
      "outputs": [
        {
          "output_type": "stream",
          "name": "stdout",
          "text": [
            "0    “a\\n\\ndll\\n\\nwe understand your world\\nhari sa...\n",
            "Name: 0, dtype: object\n",
            "The prediction is Res\n"
          ]
        }
      ],
      "source": [
        "test('/content/drive/MyDrive/EY/petrolbill.jpg',m)"
      ]
    },
    {
      "cell_type": "markdown",
      "metadata": {
        "id": "d0wSZmxOV8Si"
      },
      "source": [
        "#KNN"
      ]
    },
    {
      "cell_type": "code",
      "execution_count": 37,
      "metadata": {
        "id": "zRmQPLsyW6oY"
      },
      "outputs": [],
      "source": [
        "from sklearn.neighbors import KNeighborsClassifier"
      ]
    },
    {
      "cell_type": "code",
      "execution_count": 38,
      "metadata": {
        "colab": {
          "base_uri": "https://localhost:8080/"
        },
        "id": "b7m_FUKQWD3z",
        "outputId": "4381022b-bd05-4bb3-e101-bc2e97c4469c"
      },
      "outputs": [
        {
          "output_type": "stream",
          "name": "stdout",
          "text": [
            "0    ' invoice\\n\\nyour company llc address 123, sta...\n",
            "Name: 0, dtype: object\n",
            "The prediction is NonRes\n"
          ]
        }
      ],
      "source": [
        "knn=KNeighborsClassifier()\n",
        "m=model(knn)\n",
        "test('/content/drive/MyDrive/EY/1.jpg',m)"
      ]
    },
    {
      "cell_type": "code",
      "execution_count": 39,
      "metadata": {
        "colab": {
          "base_uri": "https://localhost:8080/"
        },
        "id": "pw_kJFcgWD6N",
        "outputId": "dbab5bf4-cd9f-4931-9fb7-788b91d4c861"
      },
      "outputs": [
        {
          "output_type": "stream",
          "name": "stdout",
          "text": [
            "0    ying thai kitchen\\n2220 queen anne ave n\\nseat...\n",
            "Name: 0, dtype: object\n",
            "The prediction is NonRes\n"
          ]
        }
      ],
      "source": [
        "test('/content/drive/MyDrive/EY/bill3.jpg',m)"
      ]
    },
    {
      "cell_type": "code",
      "execution_count": 40,
      "metadata": {
        "colab": {
          "base_uri": "https://localhost:8080/"
        },
        "id": "eU4lB4-IWEE8",
        "outputId": "d508f035-689d-48d2-beaa-4dae222c571e"
      },
      "outputs": [
        {
          "output_type": "stream",
          "name": "stdout",
          "text": [
            "0    “a\\n\\ndll\\n\\nwe understand your world\\nhari sa...\n",
            "Name: 0, dtype: object\n",
            "The prediction is Res\n"
          ]
        }
      ],
      "source": [
        "test('/content/drive/MyDrive/EY/petrolbill.jpg',m)"
      ]
    },
    {
      "cell_type": "markdown",
      "metadata": {
        "id": "staX_o7cWmYD"
      },
      "source": [
        "#Naive Bayes"
      ]
    },
    {
      "cell_type": "code",
      "execution_count": 41,
      "metadata": {
        "id": "f0XG_LkQWtQ8"
      },
      "outputs": [],
      "source": [
        "from sklearn.naive_bayes import GaussianNB"
      ]
    },
    {
      "cell_type": "code",
      "execution_count": 42,
      "metadata": {
        "colab": {
          "base_uri": "https://localhost:8080/"
        },
        "id": "QRyQNdWcWtKH",
        "outputId": "85d7b48f-0f92-497b-f864-1574c29096c5"
      },
      "outputs": [
        {
          "output_type": "stream",
          "name": "stdout",
          "text": [
            "0    ' invoice\\n\\nyour company llc address 123, sta...\n",
            "Name: 0, dtype: object\n",
            "The prediction is NonRes\n"
          ]
        }
      ],
      "source": [
        "gnb=GaussianNB()\n",
        "m=model(gnb)\n",
        "test('/content/drive/MyDrive/EY/1.jpg',m)"
      ]
    },
    {
      "cell_type": "code",
      "execution_count": 43,
      "metadata": {
        "colab": {
          "base_uri": "https://localhost:8080/"
        },
        "id": "Qnk9BQhaWtFW",
        "outputId": "41462422-3d72-4138-f6d5-2e062cfc8966"
      },
      "outputs": [
        {
          "output_type": "stream",
          "name": "stdout",
          "text": [
            "0    ying thai kitchen\\n2220 queen anne ave n\\nseat...\n",
            "Name: 0, dtype: object\n",
            "The prediction is Res\n"
          ]
        }
      ],
      "source": [
        "test('/content/drive/MyDrive/EY/bill3.jpg',m)"
      ]
    },
    {
      "cell_type": "code",
      "execution_count": 44,
      "metadata": {
        "colab": {
          "base_uri": "https://localhost:8080/"
        },
        "id": "0_weoeYMW3Vt",
        "outputId": "cbf7062f-e8fb-4f6f-da87-2133f5d1dd22"
      },
      "outputs": [
        {
          "output_type": "stream",
          "name": "stdout",
          "text": [
            "0    “a\\n\\ndll\\n\\nwe understand your world\\nhari sa...\n",
            "Name: 0, dtype: object\n",
            "The prediction is NonRes\n"
          ]
        }
      ],
      "source": [
        "test('/content/drive/MyDrive/EY/petrolbill.jpg',m)"
      ]
    },
    {
      "cell_type": "markdown",
      "metadata": {
        "id": "bgSzXmEAHAjk"
      },
      "source": [
        "#Result"
      ]
    },
    {
      "cell_type": "markdown",
      "metadata": {
        "id": "Lb8YCoY5JiHw"
      },
      "source": [
        "As it can be seen above, KNN and Naive Bayes were able to classify the bills properly into their respective categories."
      ]
    },
    {
      "cell_type": "markdown",
      "metadata": {
        "id": "eFpLOT_vJ6xM"
      },
      "source": [
        "#Conclusion"
      ]
    },
    {
      "cell_type": "markdown",
      "metadata": {
        "id": "OtNToRgKJ-7C"
      },
      "source": [
        "We can see that we successfully developed a program which could read images, extract text out of these images.After this, we labelled these texts as restuarant bills and non-restuarant bills.After this we transformed the text in TF IDF and then transformed the it in truncated SVD with number of components=10. After this we formulated it as a classification problem and applied Logistic Regression,Decision Tree, Support Vector Machine,KNN Classification and Naive Bayes.We tested the models on 3 test data and it KNN and Naive Bayes were able to classify these 3 bills correctly.\n",
        "\n",
        "Though we had only few bills for training and testing the model, we know as per experience, that, the more data nlp models have the better they start to perform; and thus our model can be improved much further and that can be the future scope of this project."
      ]
    },
    {
      "cell_type": "code",
      "execution_count": 44,
      "metadata": {
        "id": "1NWZjj0WAoIu"
      },
      "outputs": [],
      "source": []
    }
  ],
  "metadata": {
    "colab": {
      "collapsed_sections": [],
      "provenance": [],
      "toc_visible": true
    },
    "kernelspec": {
      "display_name": "Python 3 (ipykernel)",
      "language": "python",
      "name": "python3"
    },
    "language_info": {
      "codemirror_mode": {
        "name": "ipython",
        "version": 3
      },
      "file_extension": ".py",
      "mimetype": "text/x-python",
      "name": "python",
      "nbconvert_exporter": "python",
      "pygments_lexer": "ipython3",
      "version": "3.9.12"
    }
  },
  "nbformat": 4,
  "nbformat_minor": 0
}